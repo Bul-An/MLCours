{
  "nbformat": 4,
  "nbformat_minor": 0,
  "metadata": {
    "colab": {
      "provenance": [],
      "mount_file_id": "1uf-pXoUN23D9Ao4dDa0vEuQrr4CSq0Zm",
      "authorship_tag": "ABX9TyNGKyUyuhl8XAAackWSKZSs",
      "include_colab_link": true
    },
    "kernelspec": {
      "name": "python3",
      "display_name": "Python 3"
    },
    "language_info": {
      "name": "python"
    }
  },
  "cells": [
    {
      "cell_type": "markdown",
      "metadata": {
        "id": "view-in-github",
        "colab_type": "text"
      },
      "source": [
        "<a href=\"https://colab.research.google.com/github/Bul-An/MLCours/blob/main/ML_BAA.ipynb\" target=\"_parent\"><img src=\"https://colab.research.google.com/assets/colab-badge.svg\" alt=\"Open In Colab\"/></a>"
      ]
    },
    {
      "cell_type": "code",
      "execution_count": 1,
      "metadata": {
        "id": "m5CT68-Ws5Jj"
      },
      "outputs": [],
      "source": [
        "import numpy as np\n",
        "import pandas as pd\n",
        "import seaborn as sb\n",
        "import matplotlib.pyplot as plt"
      ]
    },
    {
      "cell_type": "markdown",
      "source": [
        "Чтение набора данных и определение его основных характеристик."
      ],
      "metadata": {
        "id": "OTatkv5N_tBr"
      }
    },
    {
      "cell_type": "code",
      "source": [
        "df = pd.read_csv(\"https://raw.githubusercontent.com/evgpat/edu_stepik_from_idea_to_mvp/main/datasets/clients.csv\")"
      ],
      "metadata": {
        "id": "JsiepEhkqfox"
      },
      "execution_count": 2,
      "outputs": []
    },
    {
      "cell_type": "code",
      "source": [
        "df.head(10)"
      ],
      "metadata": {
        "colab": {
          "base_uri": "https://localhost:8080/",
          "height": 682
        },
        "id": "Lsx6FEDWskuF",
        "outputId": "e096fc3b-ed6c-4628-8bd6-28600780d2c3"
      },
      "execution_count": 3,
      "outputs": [
        {
          "output_type": "execute_result",
          "data": {
            "text/plain": [
              "   id  Gender   Age      Customer Type   Type of Travel     Class  \\\n",
              "0   1    Male  48.0  disloyal Customer  Business travel  Business   \n",
              "1   2  Female  35.0     Loyal Customer  Business travel  Business   \n",
              "2   3    Male  41.0     Loyal Customer  Business travel  Business   \n",
              "3   4    Male  50.0     Loyal Customer  Business travel  Business   \n",
              "4   5  Female  49.0     Loyal Customer  Business travel  Business   \n",
              "5   6    Male  43.0     Loyal Customer  Business travel  Business   \n",
              "6   7    Male  43.0     Loyal Customer  Business travel  Business   \n",
              "7   8  Female  60.0     Loyal Customer  Business travel  Business   \n",
              "8   9    Male  50.0     Loyal Customer  Business travel  Business   \n",
              "9  10  Female  38.0     Loyal Customer  Business travel  Business   \n",
              "\n",
              "   Flight Distance  Departure Delay in Minutes  Arrival Delay in Minutes  \\\n",
              "0            821.0                         2.0                       5.0   \n",
              "1            821.0                        26.0                      39.0   \n",
              "2            853.0                         0.0                       0.0   \n",
              "3           1905.0                         0.0                       0.0   \n",
              "4           3470.0                         0.0                       1.0   \n",
              "5           3788.0                         0.0                       0.0   \n",
              "6           1963.0                         0.0                       0.0   \n",
              "7            853.0                         0.0                       3.0   \n",
              "8           2607.0                         0.0                       0.0   \n",
              "9           2822.0                        13.0                       0.0   \n",
              "\n",
              "   Inflight wifi service  ...  Online boarding  Seat comfort  \\\n",
              "0                    3.0  ...              3.0           5.0   \n",
              "1                    2.0  ...              5.0           4.0   \n",
              "2                    4.0  ...              5.0           5.0   \n",
              "3                    2.0  ...              4.0           5.0   \n",
              "4                    3.0  ...              5.0           4.0   \n",
              "5                    4.0  ...              5.0           4.0   \n",
              "6                    3.0  ...              4.0           5.0   \n",
              "7                    4.0  ...              4.0           4.0   \n",
              "8                    4.0  ...              2.0           3.0   \n",
              "9                    2.0  ...              5.0           4.0   \n",
              "\n",
              "   Inflight entertainment  On-board service  Leg room service  \\\n",
              "0                     5.0               3.0               2.0   \n",
              "1                     5.0               5.0               5.0   \n",
              "2                     3.0               3.0               3.0   \n",
              "3                     5.0               5.0               5.0   \n",
              "4                     3.0               3.0               4.0   \n",
              "5                     4.0               4.0               4.0   \n",
              "6                     5.0               5.0               5.0   \n",
              "7                     3.0               3.0               4.0   \n",
              "8                     4.0               4.0               4.0   \n",
              "9                     5.0               5.0               5.0   \n",
              "\n",
              "   Baggage handling  Checkin service  Inflight service  Cleanliness  \\\n",
              "0               5.0              4.0               5.0          5.0   \n",
              "1               5.0              3.0               5.0          5.0   \n",
              "2               3.0              4.0               3.0          5.0   \n",
              "3               5.0              3.0               5.0          4.0   \n",
              "4               3.0              3.0               3.0          5.0   \n",
              "5               4.0              3.0               4.0          3.0   \n",
              "6               5.0              4.0               5.0          4.0   \n",
              "7               3.0              3.0               3.0          4.0   \n",
              "8               4.0              3.0               4.0          3.0   \n",
              "9               5.0              3.0               5.0          4.0   \n",
              "\n",
              "              satisfaction  \n",
              "0  neutral or dissatisfied  \n",
              "1                satisfied  \n",
              "2                satisfied  \n",
              "3                satisfied  \n",
              "4                satisfied  \n",
              "5                satisfied  \n",
              "6                satisfied  \n",
              "7                satisfied  \n",
              "8  neutral or dissatisfied  \n",
              "9                satisfied  \n",
              "\n",
              "[10 rows x 24 columns]"
            ],
            "text/html": [
              "\n",
              "  <div id=\"df-d2241ba8-cf03-4dfa-bce4-cbbfe2058746\">\n",
              "    <div class=\"colab-df-container\">\n",
              "      <div>\n",
              "<style scoped>\n",
              "    .dataframe tbody tr th:only-of-type {\n",
              "        vertical-align: middle;\n",
              "    }\n",
              "\n",
              "    .dataframe tbody tr th {\n",
              "        vertical-align: top;\n",
              "    }\n",
              "\n",
              "    .dataframe thead th {\n",
              "        text-align: right;\n",
              "    }\n",
              "</style>\n",
              "<table border=\"1\" class=\"dataframe\">\n",
              "  <thead>\n",
              "    <tr style=\"text-align: right;\">\n",
              "      <th></th>\n",
              "      <th>id</th>\n",
              "      <th>Gender</th>\n",
              "      <th>Age</th>\n",
              "      <th>Customer Type</th>\n",
              "      <th>Type of Travel</th>\n",
              "      <th>Class</th>\n",
              "      <th>Flight Distance</th>\n",
              "      <th>Departure Delay in Minutes</th>\n",
              "      <th>Arrival Delay in Minutes</th>\n",
              "      <th>Inflight wifi service</th>\n",
              "      <th>...</th>\n",
              "      <th>Online boarding</th>\n",
              "      <th>Seat comfort</th>\n",
              "      <th>Inflight entertainment</th>\n",
              "      <th>On-board service</th>\n",
              "      <th>Leg room service</th>\n",
              "      <th>Baggage handling</th>\n",
              "      <th>Checkin service</th>\n",
              "      <th>Inflight service</th>\n",
              "      <th>Cleanliness</th>\n",
              "      <th>satisfaction</th>\n",
              "    </tr>\n",
              "  </thead>\n",
              "  <tbody>\n",
              "    <tr>\n",
              "      <th>0</th>\n",
              "      <td>1</td>\n",
              "      <td>Male</td>\n",
              "      <td>48.0</td>\n",
              "      <td>disloyal Customer</td>\n",
              "      <td>Business travel</td>\n",
              "      <td>Business</td>\n",
              "      <td>821.0</td>\n",
              "      <td>2.0</td>\n",
              "      <td>5.0</td>\n",
              "      <td>3.0</td>\n",
              "      <td>...</td>\n",
              "      <td>3.0</td>\n",
              "      <td>5.0</td>\n",
              "      <td>5.0</td>\n",
              "      <td>3.0</td>\n",
              "      <td>2.0</td>\n",
              "      <td>5.0</td>\n",
              "      <td>4.0</td>\n",
              "      <td>5.0</td>\n",
              "      <td>5.0</td>\n",
              "      <td>neutral or dissatisfied</td>\n",
              "    </tr>\n",
              "    <tr>\n",
              "      <th>1</th>\n",
              "      <td>2</td>\n",
              "      <td>Female</td>\n",
              "      <td>35.0</td>\n",
              "      <td>Loyal Customer</td>\n",
              "      <td>Business travel</td>\n",
              "      <td>Business</td>\n",
              "      <td>821.0</td>\n",
              "      <td>26.0</td>\n",
              "      <td>39.0</td>\n",
              "      <td>2.0</td>\n",
              "      <td>...</td>\n",
              "      <td>5.0</td>\n",
              "      <td>4.0</td>\n",
              "      <td>5.0</td>\n",
              "      <td>5.0</td>\n",
              "      <td>5.0</td>\n",
              "      <td>5.0</td>\n",
              "      <td>3.0</td>\n",
              "      <td>5.0</td>\n",
              "      <td>5.0</td>\n",
              "      <td>satisfied</td>\n",
              "    </tr>\n",
              "    <tr>\n",
              "      <th>2</th>\n",
              "      <td>3</td>\n",
              "      <td>Male</td>\n",
              "      <td>41.0</td>\n",
              "      <td>Loyal Customer</td>\n",
              "      <td>Business travel</td>\n",
              "      <td>Business</td>\n",
              "      <td>853.0</td>\n",
              "      <td>0.0</td>\n",
              "      <td>0.0</td>\n",
              "      <td>4.0</td>\n",
              "      <td>...</td>\n",
              "      <td>5.0</td>\n",
              "      <td>5.0</td>\n",
              "      <td>3.0</td>\n",
              "      <td>3.0</td>\n",
              "      <td>3.0</td>\n",
              "      <td>3.0</td>\n",
              "      <td>4.0</td>\n",
              "      <td>3.0</td>\n",
              "      <td>5.0</td>\n",
              "      <td>satisfied</td>\n",
              "    </tr>\n",
              "    <tr>\n",
              "      <th>3</th>\n",
              "      <td>4</td>\n",
              "      <td>Male</td>\n",
              "      <td>50.0</td>\n",
              "      <td>Loyal Customer</td>\n",
              "      <td>Business travel</td>\n",
              "      <td>Business</td>\n",
              "      <td>1905.0</td>\n",
              "      <td>0.0</td>\n",
              "      <td>0.0</td>\n",
              "      <td>2.0</td>\n",
              "      <td>...</td>\n",
              "      <td>4.0</td>\n",
              "      <td>5.0</td>\n",
              "      <td>5.0</td>\n",
              "      <td>5.0</td>\n",
              "      <td>5.0</td>\n",
              "      <td>5.0</td>\n",
              "      <td>3.0</td>\n",
              "      <td>5.0</td>\n",
              "      <td>4.0</td>\n",
              "      <td>satisfied</td>\n",
              "    </tr>\n",
              "    <tr>\n",
              "      <th>4</th>\n",
              "      <td>5</td>\n",
              "      <td>Female</td>\n",
              "      <td>49.0</td>\n",
              "      <td>Loyal Customer</td>\n",
              "      <td>Business travel</td>\n",
              "      <td>Business</td>\n",
              "      <td>3470.0</td>\n",
              "      <td>0.0</td>\n",
              "      <td>1.0</td>\n",
              "      <td>3.0</td>\n",
              "      <td>...</td>\n",
              "      <td>5.0</td>\n",
              "      <td>4.0</td>\n",
              "      <td>3.0</td>\n",
              "      <td>3.0</td>\n",
              "      <td>4.0</td>\n",
              "      <td>3.0</td>\n",
              "      <td>3.0</td>\n",
              "      <td>3.0</td>\n",
              "      <td>5.0</td>\n",
              "      <td>satisfied</td>\n",
              "    </tr>\n",
              "    <tr>\n",
              "      <th>5</th>\n",
              "      <td>6</td>\n",
              "      <td>Male</td>\n",
              "      <td>43.0</td>\n",
              "      <td>Loyal Customer</td>\n",
              "      <td>Business travel</td>\n",
              "      <td>Business</td>\n",
              "      <td>3788.0</td>\n",
              "      <td>0.0</td>\n",
              "      <td>0.0</td>\n",
              "      <td>4.0</td>\n",
              "      <td>...</td>\n",
              "      <td>5.0</td>\n",
              "      <td>4.0</td>\n",
              "      <td>4.0</td>\n",
              "      <td>4.0</td>\n",
              "      <td>4.0</td>\n",
              "      <td>4.0</td>\n",
              "      <td>3.0</td>\n",
              "      <td>4.0</td>\n",
              "      <td>3.0</td>\n",
              "      <td>satisfied</td>\n",
              "    </tr>\n",
              "    <tr>\n",
              "      <th>6</th>\n",
              "      <td>7</td>\n",
              "      <td>Male</td>\n",
              "      <td>43.0</td>\n",
              "      <td>Loyal Customer</td>\n",
              "      <td>Business travel</td>\n",
              "      <td>Business</td>\n",
              "      <td>1963.0</td>\n",
              "      <td>0.0</td>\n",
              "      <td>0.0</td>\n",
              "      <td>3.0</td>\n",
              "      <td>...</td>\n",
              "      <td>4.0</td>\n",
              "      <td>5.0</td>\n",
              "      <td>5.0</td>\n",
              "      <td>5.0</td>\n",
              "      <td>5.0</td>\n",
              "      <td>5.0</td>\n",
              "      <td>4.0</td>\n",
              "      <td>5.0</td>\n",
              "      <td>4.0</td>\n",
              "      <td>satisfied</td>\n",
              "    </tr>\n",
              "    <tr>\n",
              "      <th>7</th>\n",
              "      <td>8</td>\n",
              "      <td>Female</td>\n",
              "      <td>60.0</td>\n",
              "      <td>Loyal Customer</td>\n",
              "      <td>Business travel</td>\n",
              "      <td>Business</td>\n",
              "      <td>853.0</td>\n",
              "      <td>0.0</td>\n",
              "      <td>3.0</td>\n",
              "      <td>4.0</td>\n",
              "      <td>...</td>\n",
              "      <td>4.0</td>\n",
              "      <td>4.0</td>\n",
              "      <td>3.0</td>\n",
              "      <td>3.0</td>\n",
              "      <td>4.0</td>\n",
              "      <td>3.0</td>\n",
              "      <td>3.0</td>\n",
              "      <td>3.0</td>\n",
              "      <td>4.0</td>\n",
              "      <td>satisfied</td>\n",
              "    </tr>\n",
              "    <tr>\n",
              "      <th>8</th>\n",
              "      <td>9</td>\n",
              "      <td>Male</td>\n",
              "      <td>50.0</td>\n",
              "      <td>Loyal Customer</td>\n",
              "      <td>Business travel</td>\n",
              "      <td>Business</td>\n",
              "      <td>2607.0</td>\n",
              "      <td>0.0</td>\n",
              "      <td>0.0</td>\n",
              "      <td>4.0</td>\n",
              "      <td>...</td>\n",
              "      <td>2.0</td>\n",
              "      <td>3.0</td>\n",
              "      <td>4.0</td>\n",
              "      <td>4.0</td>\n",
              "      <td>4.0</td>\n",
              "      <td>4.0</td>\n",
              "      <td>3.0</td>\n",
              "      <td>4.0</td>\n",
              "      <td>3.0</td>\n",
              "      <td>neutral or dissatisfied</td>\n",
              "    </tr>\n",
              "    <tr>\n",
              "      <th>9</th>\n",
              "      <td>10</td>\n",
              "      <td>Female</td>\n",
              "      <td>38.0</td>\n",
              "      <td>Loyal Customer</td>\n",
              "      <td>Business travel</td>\n",
              "      <td>Business</td>\n",
              "      <td>2822.0</td>\n",
              "      <td>13.0</td>\n",
              "      <td>0.0</td>\n",
              "      <td>2.0</td>\n",
              "      <td>...</td>\n",
              "      <td>5.0</td>\n",
              "      <td>4.0</td>\n",
              "      <td>5.0</td>\n",
              "      <td>5.0</td>\n",
              "      <td>5.0</td>\n",
              "      <td>5.0</td>\n",
              "      <td>3.0</td>\n",
              "      <td>5.0</td>\n",
              "      <td>4.0</td>\n",
              "      <td>satisfied</td>\n",
              "    </tr>\n",
              "  </tbody>\n",
              "</table>\n",
              "<p>10 rows × 24 columns</p>\n",
              "</div>\n",
              "      <button class=\"colab-df-convert\" onclick=\"convertToInteractive('df-d2241ba8-cf03-4dfa-bce4-cbbfe2058746')\"\n",
              "              title=\"Convert this dataframe to an interactive table.\"\n",
              "              style=\"display:none;\">\n",
              "        \n",
              "  <svg xmlns=\"http://www.w3.org/2000/svg\" height=\"24px\"viewBox=\"0 0 24 24\"\n",
              "       width=\"24px\">\n",
              "    <path d=\"M0 0h24v24H0V0z\" fill=\"none\"/>\n",
              "    <path d=\"M18.56 5.44l.94 2.06.94-2.06 2.06-.94-2.06-.94-.94-2.06-.94 2.06-2.06.94zm-11 1L8.5 8.5l.94-2.06 2.06-.94-2.06-.94L8.5 2.5l-.94 2.06-2.06.94zm10 10l.94 2.06.94-2.06 2.06-.94-2.06-.94-.94-2.06-.94 2.06-2.06.94z\"/><path d=\"M17.41 7.96l-1.37-1.37c-.4-.4-.92-.59-1.43-.59-.52 0-1.04.2-1.43.59L10.3 9.45l-7.72 7.72c-.78.78-.78 2.05 0 2.83L4 21.41c.39.39.9.59 1.41.59.51 0 1.02-.2 1.41-.59l7.78-7.78 2.81-2.81c.8-.78.8-2.07 0-2.86zM5.41 20L4 18.59l7.72-7.72 1.47 1.35L5.41 20z\"/>\n",
              "  </svg>\n",
              "      </button>\n",
              "      \n",
              "  <style>\n",
              "    .colab-df-container {\n",
              "      display:flex;\n",
              "      flex-wrap:wrap;\n",
              "      gap: 12px;\n",
              "    }\n",
              "\n",
              "    .colab-df-convert {\n",
              "      background-color: #E8F0FE;\n",
              "      border: none;\n",
              "      border-radius: 50%;\n",
              "      cursor: pointer;\n",
              "      display: none;\n",
              "      fill: #1967D2;\n",
              "      height: 32px;\n",
              "      padding: 0 0 0 0;\n",
              "      width: 32px;\n",
              "    }\n",
              "\n",
              "    .colab-df-convert:hover {\n",
              "      background-color: #E2EBFA;\n",
              "      box-shadow: 0px 1px 2px rgba(60, 64, 67, 0.3), 0px 1px 3px 1px rgba(60, 64, 67, 0.15);\n",
              "      fill: #174EA6;\n",
              "    }\n",
              "\n",
              "    [theme=dark] .colab-df-convert {\n",
              "      background-color: #3B4455;\n",
              "      fill: #D2E3FC;\n",
              "    }\n",
              "\n",
              "    [theme=dark] .colab-df-convert:hover {\n",
              "      background-color: #434B5C;\n",
              "      box-shadow: 0px 1px 3px 1px rgba(0, 0, 0, 0.15);\n",
              "      filter: drop-shadow(0px 1px 2px rgba(0, 0, 0, 0.3));\n",
              "      fill: #FFFFFF;\n",
              "    }\n",
              "  </style>\n",
              "\n",
              "      <script>\n",
              "        const buttonEl =\n",
              "          document.querySelector('#df-d2241ba8-cf03-4dfa-bce4-cbbfe2058746 button.colab-df-convert');\n",
              "        buttonEl.style.display =\n",
              "          google.colab.kernel.accessAllowed ? 'block' : 'none';\n",
              "\n",
              "        async function convertToInteractive(key) {\n",
              "          const element = document.querySelector('#df-d2241ba8-cf03-4dfa-bce4-cbbfe2058746');\n",
              "          const dataTable =\n",
              "            await google.colab.kernel.invokeFunction('convertToInteractive',\n",
              "                                                     [key], {});\n",
              "          if (!dataTable) return;\n",
              "\n",
              "          const docLinkHtml = 'Like what you see? Visit the ' +\n",
              "            '<a target=\"_blank\" href=https://colab.research.google.com/notebooks/data_table.ipynb>data table notebook</a>'\n",
              "            + ' to learn more about interactive tables.';\n",
              "          element.innerHTML = '';\n",
              "          dataTable['output_type'] = 'display_data';\n",
              "          await google.colab.output.renderOutput(dataTable, element);\n",
              "          const docLink = document.createElement('div');\n",
              "          docLink.innerHTML = docLinkHtml;\n",
              "          element.appendChild(docLink);\n",
              "        }\n",
              "      </script>\n",
              "    </div>\n",
              "  </div>\n",
              "  "
            ]
          },
          "metadata": {},
          "execution_count": 3
        }
      ]
    },
    {
      "cell_type": "code",
      "source": [
        "df.shape"
      ],
      "metadata": {
        "colab": {
          "base_uri": "https://localhost:8080/"
        },
        "id": "AF0e4bAYusN0",
        "outputId": "25464e88-705c-42b6-d041-242aea497962"
      },
      "execution_count": 4,
      "outputs": [
        {
          "output_type": "execute_result",
          "data": {
            "text/plain": [
              "(129880, 24)"
            ]
          },
          "metadata": {},
          "execution_count": 4
        }
      ]
    },
    {
      "cell_type": "code",
      "source": [
        "df.columns"
      ],
      "metadata": {
        "colab": {
          "base_uri": "https://localhost:8080/"
        },
        "id": "MzqmG1kdu63T",
        "outputId": "2c3906bc-3dfe-4e7f-f8c8-064f5bf3d9f3"
      },
      "execution_count": 5,
      "outputs": [
        {
          "output_type": "execute_result",
          "data": {
            "text/plain": [
              "Index(['id', 'Gender', 'Age', 'Customer Type', 'Type of Travel', 'Class',\n",
              "       'Flight Distance', 'Departure Delay in Minutes',\n",
              "       'Arrival Delay in Minutes', 'Inflight wifi service',\n",
              "       'Departure/Arrival time convenient', 'Ease of Online booking',\n",
              "       'Gate location', 'Food and drink', 'Online boarding', 'Seat comfort',\n",
              "       'Inflight entertainment', 'On-board service', 'Leg room service',\n",
              "       'Baggage handling', 'Checkin service', 'Inflight service',\n",
              "       'Cleanliness', 'satisfaction'],\n",
              "      dtype='object')"
            ]
          },
          "metadata": {},
          "execution_count": 5
        }
      ]
    },
    {
      "cell_type": "code",
      "source": [
        "df.describe()"
      ],
      "metadata": {
        "colab": {
          "base_uri": "https://localhost:8080/",
          "height": 399
        },
        "id": "THs1u_Vrw1q-",
        "outputId": "3d0015fe-fef9-403d-8c2b-615931611075"
      },
      "execution_count": 6,
      "outputs": [
        {
          "output_type": "execute_result",
          "data": {
            "text/plain": [
              "                  id            Age  Flight Distance  \\\n",
              "count  129880.000000  129564.000000    129786.000000   \n",
              "mean    64940.500000      40.113951      1323.385804   \n",
              "std     37493.270818      20.365190      4516.191530   \n",
              "min         1.000000       0.000000         0.000000   \n",
              "25%     32470.750000      27.000000       414.000000   \n",
              "50%     64940.500000      40.000000       846.000000   \n",
              "75%     97410.250000      51.000000      1744.000000   \n",
              "max    129880.000000     621.000000    379620.000000   \n",
              "\n",
              "       Departure Delay in Minutes  Arrival Delay in Minutes  \\\n",
              "count               129773.000000             129371.000000   \n",
              "mean                    15.811301                 16.651406   \n",
              "std                     93.206139                109.167328   \n",
              "min                      0.000000                  0.000000   \n",
              "25%                      0.000000                  0.000000   \n",
              "50%                      0.000000                  0.000000   \n",
              "75%                     12.000000                 13.000000   \n",
              "max                  22227.000000              14006.000000   \n",
              "\n",
              "       Inflight wifi service  Departure/Arrival time convenient  \\\n",
              "count          129835.000000                      129831.000000   \n",
              "mean                2.732183                           3.061857   \n",
              "std                 1.359786                           1.559323   \n",
              "min                 0.000000                           0.000000   \n",
              "25%                 2.000000                           2.000000   \n",
              "50%                 3.000000                           3.000000   \n",
              "75%                 4.000000                           4.000000   \n",
              "max                45.000000                          45.000000   \n",
              "\n",
              "       Ease of Online booking  Gate location  Food and drink  Online boarding  \\\n",
              "count           129837.000000  129842.000000   129830.000000    129834.000000   \n",
              "mean                 2.760523       2.981424        3.208349         3.256674   \n",
              "std                  1.430800       1.312628        1.357649         1.381889   \n",
              "min                  0.000000       0.000000        0.000000         0.000000   \n",
              "25%                  2.000000       2.000000        2.000000         2.000000   \n",
              "50%                  3.000000       3.000000        3.000000         3.000000   \n",
              "75%                  4.000000       4.000000        4.000000         4.000000   \n",
              "max                 45.000000      36.000000       45.000000        40.000000   \n",
              "\n",
              "        Seat comfort  Inflight entertainment  On-board service  \\\n",
              "count  129832.000000           129833.000000     129836.000000   \n",
              "mean        3.445691                3.361395          3.387181   \n",
              "std         1.349732                1.366866          1.335540   \n",
              "min         0.000000                0.000000          0.000000   \n",
              "25%         2.000000                2.000000          2.000000   \n",
              "50%         4.000000                4.000000          4.000000   \n",
              "75%         5.000000                4.000000          4.000000   \n",
              "max        45.000000               45.000000         45.000000   \n",
              "\n",
              "       Leg room service  Baggage handling  Checkin service  Inflight service  \\\n",
              "count     129834.000000     129832.000000    129838.000000      129817.00000   \n",
              "mean           3.356101          3.636107         3.310056           3.64718   \n",
              "std            1.361633          1.221818         1.298626           1.21837   \n",
              "min            0.000000          0.000000         0.000000           0.00000   \n",
              "25%            2.000000          3.000000         3.000000           3.00000   \n",
              "50%            4.000000          4.000000         3.000000           4.00000   \n",
              "75%            4.000000          5.000000         4.000000           5.00000   \n",
              "max           40.000000         40.000000        45.000000          40.00000   \n",
              "\n",
              "         Cleanliness  \n",
              "count  129843.000000  \n",
              "mean        3.289865  \n",
              "std         1.347625  \n",
              "min         0.000000  \n",
              "25%         2.000000  \n",
              "50%         3.000000  \n",
              "75%         4.000000  \n",
              "max        45.000000  "
            ],
            "text/html": [
              "\n",
              "  <div id=\"df-23f7b6f2-4a9e-4fa2-acc8-ccbd7b929e67\">\n",
              "    <div class=\"colab-df-container\">\n",
              "      <div>\n",
              "<style scoped>\n",
              "    .dataframe tbody tr th:only-of-type {\n",
              "        vertical-align: middle;\n",
              "    }\n",
              "\n",
              "    .dataframe tbody tr th {\n",
              "        vertical-align: top;\n",
              "    }\n",
              "\n",
              "    .dataframe thead th {\n",
              "        text-align: right;\n",
              "    }\n",
              "</style>\n",
              "<table border=\"1\" class=\"dataframe\">\n",
              "  <thead>\n",
              "    <tr style=\"text-align: right;\">\n",
              "      <th></th>\n",
              "      <th>id</th>\n",
              "      <th>Age</th>\n",
              "      <th>Flight Distance</th>\n",
              "      <th>Departure Delay in Minutes</th>\n",
              "      <th>Arrival Delay in Minutes</th>\n",
              "      <th>Inflight wifi service</th>\n",
              "      <th>Departure/Arrival time convenient</th>\n",
              "      <th>Ease of Online booking</th>\n",
              "      <th>Gate location</th>\n",
              "      <th>Food and drink</th>\n",
              "      <th>Online boarding</th>\n",
              "      <th>Seat comfort</th>\n",
              "      <th>Inflight entertainment</th>\n",
              "      <th>On-board service</th>\n",
              "      <th>Leg room service</th>\n",
              "      <th>Baggage handling</th>\n",
              "      <th>Checkin service</th>\n",
              "      <th>Inflight service</th>\n",
              "      <th>Cleanliness</th>\n",
              "    </tr>\n",
              "  </thead>\n",
              "  <tbody>\n",
              "    <tr>\n",
              "      <th>count</th>\n",
              "      <td>129880.000000</td>\n",
              "      <td>129564.000000</td>\n",
              "      <td>129786.000000</td>\n",
              "      <td>129773.000000</td>\n",
              "      <td>129371.000000</td>\n",
              "      <td>129835.000000</td>\n",
              "      <td>129831.000000</td>\n",
              "      <td>129837.000000</td>\n",
              "      <td>129842.000000</td>\n",
              "      <td>129830.000000</td>\n",
              "      <td>129834.000000</td>\n",
              "      <td>129832.000000</td>\n",
              "      <td>129833.000000</td>\n",
              "      <td>129836.000000</td>\n",
              "      <td>129834.000000</td>\n",
              "      <td>129832.000000</td>\n",
              "      <td>129838.000000</td>\n",
              "      <td>129817.00000</td>\n",
              "      <td>129843.000000</td>\n",
              "    </tr>\n",
              "    <tr>\n",
              "      <th>mean</th>\n",
              "      <td>64940.500000</td>\n",
              "      <td>40.113951</td>\n",
              "      <td>1323.385804</td>\n",
              "      <td>15.811301</td>\n",
              "      <td>16.651406</td>\n",
              "      <td>2.732183</td>\n",
              "      <td>3.061857</td>\n",
              "      <td>2.760523</td>\n",
              "      <td>2.981424</td>\n",
              "      <td>3.208349</td>\n",
              "      <td>3.256674</td>\n",
              "      <td>3.445691</td>\n",
              "      <td>3.361395</td>\n",
              "      <td>3.387181</td>\n",
              "      <td>3.356101</td>\n",
              "      <td>3.636107</td>\n",
              "      <td>3.310056</td>\n",
              "      <td>3.64718</td>\n",
              "      <td>3.289865</td>\n",
              "    </tr>\n",
              "    <tr>\n",
              "      <th>std</th>\n",
              "      <td>37493.270818</td>\n",
              "      <td>20.365190</td>\n",
              "      <td>4516.191530</td>\n",
              "      <td>93.206139</td>\n",
              "      <td>109.167328</td>\n",
              "      <td>1.359786</td>\n",
              "      <td>1.559323</td>\n",
              "      <td>1.430800</td>\n",
              "      <td>1.312628</td>\n",
              "      <td>1.357649</td>\n",
              "      <td>1.381889</td>\n",
              "      <td>1.349732</td>\n",
              "      <td>1.366866</td>\n",
              "      <td>1.335540</td>\n",
              "      <td>1.361633</td>\n",
              "      <td>1.221818</td>\n",
              "      <td>1.298626</td>\n",
              "      <td>1.21837</td>\n",
              "      <td>1.347625</td>\n",
              "    </tr>\n",
              "    <tr>\n",
              "      <th>min</th>\n",
              "      <td>1.000000</td>\n",
              "      <td>0.000000</td>\n",
              "      <td>0.000000</td>\n",
              "      <td>0.000000</td>\n",
              "      <td>0.000000</td>\n",
              "      <td>0.000000</td>\n",
              "      <td>0.000000</td>\n",
              "      <td>0.000000</td>\n",
              "      <td>0.000000</td>\n",
              "      <td>0.000000</td>\n",
              "      <td>0.000000</td>\n",
              "      <td>0.000000</td>\n",
              "      <td>0.000000</td>\n",
              "      <td>0.000000</td>\n",
              "      <td>0.000000</td>\n",
              "      <td>0.000000</td>\n",
              "      <td>0.000000</td>\n",
              "      <td>0.00000</td>\n",
              "      <td>0.000000</td>\n",
              "    </tr>\n",
              "    <tr>\n",
              "      <th>25%</th>\n",
              "      <td>32470.750000</td>\n",
              "      <td>27.000000</td>\n",
              "      <td>414.000000</td>\n",
              "      <td>0.000000</td>\n",
              "      <td>0.000000</td>\n",
              "      <td>2.000000</td>\n",
              "      <td>2.000000</td>\n",
              "      <td>2.000000</td>\n",
              "      <td>2.000000</td>\n",
              "      <td>2.000000</td>\n",
              "      <td>2.000000</td>\n",
              "      <td>2.000000</td>\n",
              "      <td>2.000000</td>\n",
              "      <td>2.000000</td>\n",
              "      <td>2.000000</td>\n",
              "      <td>3.000000</td>\n",
              "      <td>3.000000</td>\n",
              "      <td>3.00000</td>\n",
              "      <td>2.000000</td>\n",
              "    </tr>\n",
              "    <tr>\n",
              "      <th>50%</th>\n",
              "      <td>64940.500000</td>\n",
              "      <td>40.000000</td>\n",
              "      <td>846.000000</td>\n",
              "      <td>0.000000</td>\n",
              "      <td>0.000000</td>\n",
              "      <td>3.000000</td>\n",
              "      <td>3.000000</td>\n",
              "      <td>3.000000</td>\n",
              "      <td>3.000000</td>\n",
              "      <td>3.000000</td>\n",
              "      <td>3.000000</td>\n",
              "      <td>4.000000</td>\n",
              "      <td>4.000000</td>\n",
              "      <td>4.000000</td>\n",
              "      <td>4.000000</td>\n",
              "      <td>4.000000</td>\n",
              "      <td>3.000000</td>\n",
              "      <td>4.00000</td>\n",
              "      <td>3.000000</td>\n",
              "    </tr>\n",
              "    <tr>\n",
              "      <th>75%</th>\n",
              "      <td>97410.250000</td>\n",
              "      <td>51.000000</td>\n",
              "      <td>1744.000000</td>\n",
              "      <td>12.000000</td>\n",
              "      <td>13.000000</td>\n",
              "      <td>4.000000</td>\n",
              "      <td>4.000000</td>\n",
              "      <td>4.000000</td>\n",
              "      <td>4.000000</td>\n",
              "      <td>4.000000</td>\n",
              "      <td>4.000000</td>\n",
              "      <td>5.000000</td>\n",
              "      <td>4.000000</td>\n",
              "      <td>4.000000</td>\n",
              "      <td>4.000000</td>\n",
              "      <td>5.000000</td>\n",
              "      <td>4.000000</td>\n",
              "      <td>5.00000</td>\n",
              "      <td>4.000000</td>\n",
              "    </tr>\n",
              "    <tr>\n",
              "      <th>max</th>\n",
              "      <td>129880.000000</td>\n",
              "      <td>621.000000</td>\n",
              "      <td>379620.000000</td>\n",
              "      <td>22227.000000</td>\n",
              "      <td>14006.000000</td>\n",
              "      <td>45.000000</td>\n",
              "      <td>45.000000</td>\n",
              "      <td>45.000000</td>\n",
              "      <td>36.000000</td>\n",
              "      <td>45.000000</td>\n",
              "      <td>40.000000</td>\n",
              "      <td>45.000000</td>\n",
              "      <td>45.000000</td>\n",
              "      <td>45.000000</td>\n",
              "      <td>40.000000</td>\n",
              "      <td>40.000000</td>\n",
              "      <td>45.000000</td>\n",
              "      <td>40.00000</td>\n",
              "      <td>45.000000</td>\n",
              "    </tr>\n",
              "  </tbody>\n",
              "</table>\n",
              "</div>\n",
              "      <button class=\"colab-df-convert\" onclick=\"convertToInteractive('df-23f7b6f2-4a9e-4fa2-acc8-ccbd7b929e67')\"\n",
              "              title=\"Convert this dataframe to an interactive table.\"\n",
              "              style=\"display:none;\">\n",
              "        \n",
              "  <svg xmlns=\"http://www.w3.org/2000/svg\" height=\"24px\"viewBox=\"0 0 24 24\"\n",
              "       width=\"24px\">\n",
              "    <path d=\"M0 0h24v24H0V0z\" fill=\"none\"/>\n",
              "    <path d=\"M18.56 5.44l.94 2.06.94-2.06 2.06-.94-2.06-.94-.94-2.06-.94 2.06-2.06.94zm-11 1L8.5 8.5l.94-2.06 2.06-.94-2.06-.94L8.5 2.5l-.94 2.06-2.06.94zm10 10l.94 2.06.94-2.06 2.06-.94-2.06-.94-.94-2.06-.94 2.06-2.06.94z\"/><path d=\"M17.41 7.96l-1.37-1.37c-.4-.4-.92-.59-1.43-.59-.52 0-1.04.2-1.43.59L10.3 9.45l-7.72 7.72c-.78.78-.78 2.05 0 2.83L4 21.41c.39.39.9.59 1.41.59.51 0 1.02-.2 1.41-.59l7.78-7.78 2.81-2.81c.8-.78.8-2.07 0-2.86zM5.41 20L4 18.59l7.72-7.72 1.47 1.35L5.41 20z\"/>\n",
              "  </svg>\n",
              "      </button>\n",
              "      \n",
              "  <style>\n",
              "    .colab-df-container {\n",
              "      display:flex;\n",
              "      flex-wrap:wrap;\n",
              "      gap: 12px;\n",
              "    }\n",
              "\n",
              "    .colab-df-convert {\n",
              "      background-color: #E8F0FE;\n",
              "      border: none;\n",
              "      border-radius: 50%;\n",
              "      cursor: pointer;\n",
              "      display: none;\n",
              "      fill: #1967D2;\n",
              "      height: 32px;\n",
              "      padding: 0 0 0 0;\n",
              "      width: 32px;\n",
              "    }\n",
              "\n",
              "    .colab-df-convert:hover {\n",
              "      background-color: #E2EBFA;\n",
              "      box-shadow: 0px 1px 2px rgba(60, 64, 67, 0.3), 0px 1px 3px 1px rgba(60, 64, 67, 0.15);\n",
              "      fill: #174EA6;\n",
              "    }\n",
              "\n",
              "    [theme=dark] .colab-df-convert {\n",
              "      background-color: #3B4455;\n",
              "      fill: #D2E3FC;\n",
              "    }\n",
              "\n",
              "    [theme=dark] .colab-df-convert:hover {\n",
              "      background-color: #434B5C;\n",
              "      box-shadow: 0px 1px 3px 1px rgba(0, 0, 0, 0.15);\n",
              "      filter: drop-shadow(0px 1px 2px rgba(0, 0, 0, 0.3));\n",
              "      fill: #FFFFFF;\n",
              "    }\n",
              "  </style>\n",
              "\n",
              "      <script>\n",
              "        const buttonEl =\n",
              "          document.querySelector('#df-23f7b6f2-4a9e-4fa2-acc8-ccbd7b929e67 button.colab-df-convert');\n",
              "        buttonEl.style.display =\n",
              "          google.colab.kernel.accessAllowed ? 'block' : 'none';\n",
              "\n",
              "        async function convertToInteractive(key) {\n",
              "          const element = document.querySelector('#df-23f7b6f2-4a9e-4fa2-acc8-ccbd7b929e67');\n",
              "          const dataTable =\n",
              "            await google.colab.kernel.invokeFunction('convertToInteractive',\n",
              "                                                     [key], {});\n",
              "          if (!dataTable) return;\n",
              "\n",
              "          const docLinkHtml = 'Like what you see? Visit the ' +\n",
              "            '<a target=\"_blank\" href=https://colab.research.google.com/notebooks/data_table.ipynb>data table notebook</a>'\n",
              "            + ' to learn more about interactive tables.';\n",
              "          element.innerHTML = '';\n",
              "          dataTable['output_type'] = 'display_data';\n",
              "          await google.colab.output.renderOutput(dataTable, element);\n",
              "          const docLink = document.createElement('div');\n",
              "          docLink.innerHTML = docLinkHtml;\n",
              "          element.appendChild(docLink);\n",
              "        }\n",
              "      </script>\n",
              "    </div>\n",
              "  </div>\n",
              "  "
            ]
          },
          "metadata": {},
          "execution_count": 6
        }
      ]
    },
    {
      "cell_type": "markdown",
      "source": [
        "Выводы по итогам знакомства с набором данных:\n",
        "- в наборе имеются числовые и категориальные признаки;\n",
        "- большинство признаков содержат пропуски данных."
      ],
      "metadata": {
        "id": "TctK5EmlA8SO"
      }
    },
    {
      "cell_type": "markdown",
      "source": [
        "**РАЗДЕЛЕНИЕ НАБОРА ДАННЫХ НА ЧИСЛОВОЙ И КАТЕГОРИАЛЬНЫЙ**"
      ],
      "metadata": {
        "id": "_U8wA2H7Cr1N"
      }
    },
    {
      "cell_type": "code",
      "source": [
        "df.describe(include='object')"
      ],
      "metadata": {
        "colab": {
          "base_uri": "https://localhost:8080/",
          "height": 175
        },
        "id": "cRsODrXgBoED",
        "outputId": "0304ee5b-ad85-464a-cd99-b871c2f8684c"
      },
      "execution_count": 7,
      "outputs": [
        {
          "output_type": "execute_result",
          "data": {
            "text/plain": [
              "        Gender   Customer Type   Type of Travel     Class  \\\n",
              "count   129549          129803           129779    129764   \n",
              "unique       2               2                2         3   \n",
              "top     Female  Loyal Customer  Business travel  Business   \n",
              "freq     65726          106040            89625     62103   \n",
              "\n",
              "                   satisfaction  \n",
              "count                    129880  \n",
              "unique                        3  \n",
              "top     neutral or dissatisfied  \n",
              "freq                      58879  "
            ],
            "text/html": [
              "\n",
              "  <div id=\"df-6c4859d4-ed84-4e4b-b2e6-34362f9107b8\">\n",
              "    <div class=\"colab-df-container\">\n",
              "      <div>\n",
              "<style scoped>\n",
              "    .dataframe tbody tr th:only-of-type {\n",
              "        vertical-align: middle;\n",
              "    }\n",
              "\n",
              "    .dataframe tbody tr th {\n",
              "        vertical-align: top;\n",
              "    }\n",
              "\n",
              "    .dataframe thead th {\n",
              "        text-align: right;\n",
              "    }\n",
              "</style>\n",
              "<table border=\"1\" class=\"dataframe\">\n",
              "  <thead>\n",
              "    <tr style=\"text-align: right;\">\n",
              "      <th></th>\n",
              "      <th>Gender</th>\n",
              "      <th>Customer Type</th>\n",
              "      <th>Type of Travel</th>\n",
              "      <th>Class</th>\n",
              "      <th>satisfaction</th>\n",
              "    </tr>\n",
              "  </thead>\n",
              "  <tbody>\n",
              "    <tr>\n",
              "      <th>count</th>\n",
              "      <td>129549</td>\n",
              "      <td>129803</td>\n",
              "      <td>129779</td>\n",
              "      <td>129764</td>\n",
              "      <td>129880</td>\n",
              "    </tr>\n",
              "    <tr>\n",
              "      <th>unique</th>\n",
              "      <td>2</td>\n",
              "      <td>2</td>\n",
              "      <td>2</td>\n",
              "      <td>3</td>\n",
              "      <td>3</td>\n",
              "    </tr>\n",
              "    <tr>\n",
              "      <th>top</th>\n",
              "      <td>Female</td>\n",
              "      <td>Loyal Customer</td>\n",
              "      <td>Business travel</td>\n",
              "      <td>Business</td>\n",
              "      <td>neutral or dissatisfied</td>\n",
              "    </tr>\n",
              "    <tr>\n",
              "      <th>freq</th>\n",
              "      <td>65726</td>\n",
              "      <td>106040</td>\n",
              "      <td>89625</td>\n",
              "      <td>62103</td>\n",
              "      <td>58879</td>\n",
              "    </tr>\n",
              "  </tbody>\n",
              "</table>\n",
              "</div>\n",
              "      <button class=\"colab-df-convert\" onclick=\"convertToInteractive('df-6c4859d4-ed84-4e4b-b2e6-34362f9107b8')\"\n",
              "              title=\"Convert this dataframe to an interactive table.\"\n",
              "              style=\"display:none;\">\n",
              "        \n",
              "  <svg xmlns=\"http://www.w3.org/2000/svg\" height=\"24px\"viewBox=\"0 0 24 24\"\n",
              "       width=\"24px\">\n",
              "    <path d=\"M0 0h24v24H0V0z\" fill=\"none\"/>\n",
              "    <path d=\"M18.56 5.44l.94 2.06.94-2.06 2.06-.94-2.06-.94-.94-2.06-.94 2.06-2.06.94zm-11 1L8.5 8.5l.94-2.06 2.06-.94-2.06-.94L8.5 2.5l-.94 2.06-2.06.94zm10 10l.94 2.06.94-2.06 2.06-.94-2.06-.94-.94-2.06-.94 2.06-2.06.94z\"/><path d=\"M17.41 7.96l-1.37-1.37c-.4-.4-.92-.59-1.43-.59-.52 0-1.04.2-1.43.59L10.3 9.45l-7.72 7.72c-.78.78-.78 2.05 0 2.83L4 21.41c.39.39.9.59 1.41.59.51 0 1.02-.2 1.41-.59l7.78-7.78 2.81-2.81c.8-.78.8-2.07 0-2.86zM5.41 20L4 18.59l7.72-7.72 1.47 1.35L5.41 20z\"/>\n",
              "  </svg>\n",
              "      </button>\n",
              "      \n",
              "  <style>\n",
              "    .colab-df-container {\n",
              "      display:flex;\n",
              "      flex-wrap:wrap;\n",
              "      gap: 12px;\n",
              "    }\n",
              "\n",
              "    .colab-df-convert {\n",
              "      background-color: #E8F0FE;\n",
              "      border: none;\n",
              "      border-radius: 50%;\n",
              "      cursor: pointer;\n",
              "      display: none;\n",
              "      fill: #1967D2;\n",
              "      height: 32px;\n",
              "      padding: 0 0 0 0;\n",
              "      width: 32px;\n",
              "    }\n",
              "\n",
              "    .colab-df-convert:hover {\n",
              "      background-color: #E2EBFA;\n",
              "      box-shadow: 0px 1px 2px rgba(60, 64, 67, 0.3), 0px 1px 3px 1px rgba(60, 64, 67, 0.15);\n",
              "      fill: #174EA6;\n",
              "    }\n",
              "\n",
              "    [theme=dark] .colab-df-convert {\n",
              "      background-color: #3B4455;\n",
              "      fill: #D2E3FC;\n",
              "    }\n",
              "\n",
              "    [theme=dark] .colab-df-convert:hover {\n",
              "      background-color: #434B5C;\n",
              "      box-shadow: 0px 1px 3px 1px rgba(0, 0, 0, 0.15);\n",
              "      filter: drop-shadow(0px 1px 2px rgba(0, 0, 0, 0.3));\n",
              "      fill: #FFFFFF;\n",
              "    }\n",
              "  </style>\n",
              "\n",
              "      <script>\n",
              "        const buttonEl =\n",
              "          document.querySelector('#df-6c4859d4-ed84-4e4b-b2e6-34362f9107b8 button.colab-df-convert');\n",
              "        buttonEl.style.display =\n",
              "          google.colab.kernel.accessAllowed ? 'block' : 'none';\n",
              "\n",
              "        async function convertToInteractive(key) {\n",
              "          const element = document.querySelector('#df-6c4859d4-ed84-4e4b-b2e6-34362f9107b8');\n",
              "          const dataTable =\n",
              "            await google.colab.kernel.invokeFunction('convertToInteractive',\n",
              "                                                     [key], {});\n",
              "          if (!dataTable) return;\n",
              "\n",
              "          const docLinkHtml = 'Like what you see? Visit the ' +\n",
              "            '<a target=\"_blank\" href=https://colab.research.google.com/notebooks/data_table.ipynb>data table notebook</a>'\n",
              "            + ' to learn more about interactive tables.';\n",
              "          element.innerHTML = '';\n",
              "          dataTable['output_type'] = 'display_data';\n",
              "          await google.colab.output.renderOutput(dataTable, element);\n",
              "          const docLink = document.createElement('div');\n",
              "          docLink.innerHTML = docLinkHtml;\n",
              "          element.appendChild(docLink);\n",
              "        }\n",
              "      </script>\n",
              "    </div>\n",
              "  </div>\n",
              "  "
            ]
          },
          "metadata": {},
          "execution_count": 7
        }
      ]
    },
    {
      "cell_type": "code",
      "source": [
        "ctgr = ['Gender', 'Customer Type', 'Type of Travel', 'Class']"
      ],
      "metadata": {
        "id": "jkNGvqDoDwKg"
      },
      "execution_count": 8,
      "outputs": []
    },
    {
      "cell_type": "code",
      "source": [
        "df_ctgr = df[ctgr]"
      ],
      "metadata": {
        "id": "2Fk3ePRXDwK4"
      },
      "execution_count": 9,
      "outputs": []
    },
    {
      "cell_type": "code",
      "source": [
        "df_ctgr.head()"
      ],
      "metadata": {
        "colab": {
          "base_uri": "https://localhost:8080/",
          "height": 206
        },
        "outputId": "79469e6d-75a6-403c-da97-2911185f21e3",
        "id": "s9U1TPveDwK4"
      },
      "execution_count": 10,
      "outputs": [
        {
          "output_type": "execute_result",
          "data": {
            "text/plain": [
              "   Gender      Customer Type   Type of Travel     Class\n",
              "0    Male  disloyal Customer  Business travel  Business\n",
              "1  Female     Loyal Customer  Business travel  Business\n",
              "2    Male     Loyal Customer  Business travel  Business\n",
              "3    Male     Loyal Customer  Business travel  Business\n",
              "4  Female     Loyal Customer  Business travel  Business"
            ],
            "text/html": [
              "\n",
              "  <div id=\"df-eb63eb5d-e403-4a4c-8176-59cb47ddc89a\">\n",
              "    <div class=\"colab-df-container\">\n",
              "      <div>\n",
              "<style scoped>\n",
              "    .dataframe tbody tr th:only-of-type {\n",
              "        vertical-align: middle;\n",
              "    }\n",
              "\n",
              "    .dataframe tbody tr th {\n",
              "        vertical-align: top;\n",
              "    }\n",
              "\n",
              "    .dataframe thead th {\n",
              "        text-align: right;\n",
              "    }\n",
              "</style>\n",
              "<table border=\"1\" class=\"dataframe\">\n",
              "  <thead>\n",
              "    <tr style=\"text-align: right;\">\n",
              "      <th></th>\n",
              "      <th>Gender</th>\n",
              "      <th>Customer Type</th>\n",
              "      <th>Type of Travel</th>\n",
              "      <th>Class</th>\n",
              "    </tr>\n",
              "  </thead>\n",
              "  <tbody>\n",
              "    <tr>\n",
              "      <th>0</th>\n",
              "      <td>Male</td>\n",
              "      <td>disloyal Customer</td>\n",
              "      <td>Business travel</td>\n",
              "      <td>Business</td>\n",
              "    </tr>\n",
              "    <tr>\n",
              "      <th>1</th>\n",
              "      <td>Female</td>\n",
              "      <td>Loyal Customer</td>\n",
              "      <td>Business travel</td>\n",
              "      <td>Business</td>\n",
              "    </tr>\n",
              "    <tr>\n",
              "      <th>2</th>\n",
              "      <td>Male</td>\n",
              "      <td>Loyal Customer</td>\n",
              "      <td>Business travel</td>\n",
              "      <td>Business</td>\n",
              "    </tr>\n",
              "    <tr>\n",
              "      <th>3</th>\n",
              "      <td>Male</td>\n",
              "      <td>Loyal Customer</td>\n",
              "      <td>Business travel</td>\n",
              "      <td>Business</td>\n",
              "    </tr>\n",
              "    <tr>\n",
              "      <th>4</th>\n",
              "      <td>Female</td>\n",
              "      <td>Loyal Customer</td>\n",
              "      <td>Business travel</td>\n",
              "      <td>Business</td>\n",
              "    </tr>\n",
              "  </tbody>\n",
              "</table>\n",
              "</div>\n",
              "      <button class=\"colab-df-convert\" onclick=\"convertToInteractive('df-eb63eb5d-e403-4a4c-8176-59cb47ddc89a')\"\n",
              "              title=\"Convert this dataframe to an interactive table.\"\n",
              "              style=\"display:none;\">\n",
              "        \n",
              "  <svg xmlns=\"http://www.w3.org/2000/svg\" height=\"24px\"viewBox=\"0 0 24 24\"\n",
              "       width=\"24px\">\n",
              "    <path d=\"M0 0h24v24H0V0z\" fill=\"none\"/>\n",
              "    <path d=\"M18.56 5.44l.94 2.06.94-2.06 2.06-.94-2.06-.94-.94-2.06-.94 2.06-2.06.94zm-11 1L8.5 8.5l.94-2.06 2.06-.94-2.06-.94L8.5 2.5l-.94 2.06-2.06.94zm10 10l.94 2.06.94-2.06 2.06-.94-2.06-.94-.94-2.06-.94 2.06-2.06.94z\"/><path d=\"M17.41 7.96l-1.37-1.37c-.4-.4-.92-.59-1.43-.59-.52 0-1.04.2-1.43.59L10.3 9.45l-7.72 7.72c-.78.78-.78 2.05 0 2.83L4 21.41c.39.39.9.59 1.41.59.51 0 1.02-.2 1.41-.59l7.78-7.78 2.81-2.81c.8-.78.8-2.07 0-2.86zM5.41 20L4 18.59l7.72-7.72 1.47 1.35L5.41 20z\"/>\n",
              "  </svg>\n",
              "      </button>\n",
              "      \n",
              "  <style>\n",
              "    .colab-df-container {\n",
              "      display:flex;\n",
              "      flex-wrap:wrap;\n",
              "      gap: 12px;\n",
              "    }\n",
              "\n",
              "    .colab-df-convert {\n",
              "      background-color: #E8F0FE;\n",
              "      border: none;\n",
              "      border-radius: 50%;\n",
              "      cursor: pointer;\n",
              "      display: none;\n",
              "      fill: #1967D2;\n",
              "      height: 32px;\n",
              "      padding: 0 0 0 0;\n",
              "      width: 32px;\n",
              "    }\n",
              "\n",
              "    .colab-df-convert:hover {\n",
              "      background-color: #E2EBFA;\n",
              "      box-shadow: 0px 1px 2px rgba(60, 64, 67, 0.3), 0px 1px 3px 1px rgba(60, 64, 67, 0.15);\n",
              "      fill: #174EA6;\n",
              "    }\n",
              "\n",
              "    [theme=dark] .colab-df-convert {\n",
              "      background-color: #3B4455;\n",
              "      fill: #D2E3FC;\n",
              "    }\n",
              "\n",
              "    [theme=dark] .colab-df-convert:hover {\n",
              "      background-color: #434B5C;\n",
              "      box-shadow: 0px 1px 3px 1px rgba(0, 0, 0, 0.15);\n",
              "      filter: drop-shadow(0px 1px 2px rgba(0, 0, 0, 0.3));\n",
              "      fill: #FFFFFF;\n",
              "    }\n",
              "  </style>\n",
              "\n",
              "      <script>\n",
              "        const buttonEl =\n",
              "          document.querySelector('#df-eb63eb5d-e403-4a4c-8176-59cb47ddc89a button.colab-df-convert');\n",
              "        buttonEl.style.display =\n",
              "          google.colab.kernel.accessAllowed ? 'block' : 'none';\n",
              "\n",
              "        async function convertToInteractive(key) {\n",
              "          const element = document.querySelector('#df-eb63eb5d-e403-4a4c-8176-59cb47ddc89a');\n",
              "          const dataTable =\n",
              "            await google.colab.kernel.invokeFunction('convertToInteractive',\n",
              "                                                     [key], {});\n",
              "          if (!dataTable) return;\n",
              "\n",
              "          const docLinkHtml = 'Like what you see? Visit the ' +\n",
              "            '<a target=\"_blank\" href=https://colab.research.google.com/notebooks/data_table.ipynb>data table notebook</a>'\n",
              "            + ' to learn more about interactive tables.';\n",
              "          element.innerHTML = '';\n",
              "          dataTable['output_type'] = 'display_data';\n",
              "          await google.colab.output.renderOutput(dataTable, element);\n",
              "          const docLink = document.createElement('div');\n",
              "          docLink.innerHTML = docLinkHtml;\n",
              "          element.appendChild(docLink);\n",
              "        }\n",
              "      </script>\n",
              "    </div>\n",
              "  </div>\n",
              "  "
            ]
          },
          "metadata": {},
          "execution_count": 10
        }
      ]
    },
    {
      "cell_type": "code",
      "source": [
        "df_num = df.drop(columns=ctgr)"
      ],
      "metadata": {
        "id": "IvUQwyFzDwK5"
      },
      "execution_count": 11,
      "outputs": []
    },
    {
      "cell_type": "code",
      "source": [
        "df_num.head()"
      ],
      "metadata": {
        "colab": {
          "base_uri": "https://localhost:8080/",
          "height": 340
        },
        "outputId": "6716a962-e982-485e-d951-4843c0019663",
        "id": "rygQFPWUDwK6"
      },
      "execution_count": 12,
      "outputs": [
        {
          "output_type": "execute_result",
          "data": {
            "text/plain": [
              "   id   Age  Flight Distance  Departure Delay in Minutes  \\\n",
              "0   1  48.0            821.0                         2.0   \n",
              "1   2  35.0            821.0                        26.0   \n",
              "2   3  41.0            853.0                         0.0   \n",
              "3   4  50.0           1905.0                         0.0   \n",
              "4   5  49.0           3470.0                         0.0   \n",
              "\n",
              "   Arrival Delay in Minutes  Inflight wifi service  \\\n",
              "0                       5.0                    3.0   \n",
              "1                      39.0                    2.0   \n",
              "2                       0.0                    4.0   \n",
              "3                       0.0                    2.0   \n",
              "4                       1.0                    3.0   \n",
              "\n",
              "   Departure/Arrival time convenient  Ease of Online booking  Gate location  \\\n",
              "0                                3.0                     3.0            3.0   \n",
              "1                                2.0                     2.0            2.0   \n",
              "2                                4.0                     4.0            4.0   \n",
              "3                                2.0                     2.0            2.0   \n",
              "4                                3.0                     3.0            3.0   \n",
              "\n",
              "   Food and drink  Online boarding  Seat comfort  Inflight entertainment  \\\n",
              "0             5.0              3.0           5.0                     5.0   \n",
              "1             3.0              5.0           4.0                     5.0   \n",
              "2             5.0              5.0           5.0                     3.0   \n",
              "3             4.0              4.0           5.0                     5.0   \n",
              "4             4.0              5.0           4.0                     3.0   \n",
              "\n",
              "   On-board service  Leg room service  Baggage handling  Checkin service  \\\n",
              "0               3.0               2.0               5.0              4.0   \n",
              "1               5.0               5.0               5.0              3.0   \n",
              "2               3.0               3.0               3.0              4.0   \n",
              "3               5.0               5.0               5.0              3.0   \n",
              "4               3.0               4.0               3.0              3.0   \n",
              "\n",
              "   Inflight service  Cleanliness             satisfaction  \n",
              "0               5.0          5.0  neutral or dissatisfied  \n",
              "1               5.0          5.0                satisfied  \n",
              "2               3.0          5.0                satisfied  \n",
              "3               5.0          4.0                satisfied  \n",
              "4               3.0          5.0                satisfied  "
            ],
            "text/html": [
              "\n",
              "  <div id=\"df-d7ffd09a-e720-48e4-a214-499f01a6c325\">\n",
              "    <div class=\"colab-df-container\">\n",
              "      <div>\n",
              "<style scoped>\n",
              "    .dataframe tbody tr th:only-of-type {\n",
              "        vertical-align: middle;\n",
              "    }\n",
              "\n",
              "    .dataframe tbody tr th {\n",
              "        vertical-align: top;\n",
              "    }\n",
              "\n",
              "    .dataframe thead th {\n",
              "        text-align: right;\n",
              "    }\n",
              "</style>\n",
              "<table border=\"1\" class=\"dataframe\">\n",
              "  <thead>\n",
              "    <tr style=\"text-align: right;\">\n",
              "      <th></th>\n",
              "      <th>id</th>\n",
              "      <th>Age</th>\n",
              "      <th>Flight Distance</th>\n",
              "      <th>Departure Delay in Minutes</th>\n",
              "      <th>Arrival Delay in Minutes</th>\n",
              "      <th>Inflight wifi service</th>\n",
              "      <th>Departure/Arrival time convenient</th>\n",
              "      <th>Ease of Online booking</th>\n",
              "      <th>Gate location</th>\n",
              "      <th>Food and drink</th>\n",
              "      <th>Online boarding</th>\n",
              "      <th>Seat comfort</th>\n",
              "      <th>Inflight entertainment</th>\n",
              "      <th>On-board service</th>\n",
              "      <th>Leg room service</th>\n",
              "      <th>Baggage handling</th>\n",
              "      <th>Checkin service</th>\n",
              "      <th>Inflight service</th>\n",
              "      <th>Cleanliness</th>\n",
              "      <th>satisfaction</th>\n",
              "    </tr>\n",
              "  </thead>\n",
              "  <tbody>\n",
              "    <tr>\n",
              "      <th>0</th>\n",
              "      <td>1</td>\n",
              "      <td>48.0</td>\n",
              "      <td>821.0</td>\n",
              "      <td>2.0</td>\n",
              "      <td>5.0</td>\n",
              "      <td>3.0</td>\n",
              "      <td>3.0</td>\n",
              "      <td>3.0</td>\n",
              "      <td>3.0</td>\n",
              "      <td>5.0</td>\n",
              "      <td>3.0</td>\n",
              "      <td>5.0</td>\n",
              "      <td>5.0</td>\n",
              "      <td>3.0</td>\n",
              "      <td>2.0</td>\n",
              "      <td>5.0</td>\n",
              "      <td>4.0</td>\n",
              "      <td>5.0</td>\n",
              "      <td>5.0</td>\n",
              "      <td>neutral or dissatisfied</td>\n",
              "    </tr>\n",
              "    <tr>\n",
              "      <th>1</th>\n",
              "      <td>2</td>\n",
              "      <td>35.0</td>\n",
              "      <td>821.0</td>\n",
              "      <td>26.0</td>\n",
              "      <td>39.0</td>\n",
              "      <td>2.0</td>\n",
              "      <td>2.0</td>\n",
              "      <td>2.0</td>\n",
              "      <td>2.0</td>\n",
              "      <td>3.0</td>\n",
              "      <td>5.0</td>\n",
              "      <td>4.0</td>\n",
              "      <td>5.0</td>\n",
              "      <td>5.0</td>\n",
              "      <td>5.0</td>\n",
              "      <td>5.0</td>\n",
              "      <td>3.0</td>\n",
              "      <td>5.0</td>\n",
              "      <td>5.0</td>\n",
              "      <td>satisfied</td>\n",
              "    </tr>\n",
              "    <tr>\n",
              "      <th>2</th>\n",
              "      <td>3</td>\n",
              "      <td>41.0</td>\n",
              "      <td>853.0</td>\n",
              "      <td>0.0</td>\n",
              "      <td>0.0</td>\n",
              "      <td>4.0</td>\n",
              "      <td>4.0</td>\n",
              "      <td>4.0</td>\n",
              "      <td>4.0</td>\n",
              "      <td>5.0</td>\n",
              "      <td>5.0</td>\n",
              "      <td>5.0</td>\n",
              "      <td>3.0</td>\n",
              "      <td>3.0</td>\n",
              "      <td>3.0</td>\n",
              "      <td>3.0</td>\n",
              "      <td>4.0</td>\n",
              "      <td>3.0</td>\n",
              "      <td>5.0</td>\n",
              "      <td>satisfied</td>\n",
              "    </tr>\n",
              "    <tr>\n",
              "      <th>3</th>\n",
              "      <td>4</td>\n",
              "      <td>50.0</td>\n",
              "      <td>1905.0</td>\n",
              "      <td>0.0</td>\n",
              "      <td>0.0</td>\n",
              "      <td>2.0</td>\n",
              "      <td>2.0</td>\n",
              "      <td>2.0</td>\n",
              "      <td>2.0</td>\n",
              "      <td>4.0</td>\n",
              "      <td>4.0</td>\n",
              "      <td>5.0</td>\n",
              "      <td>5.0</td>\n",
              "      <td>5.0</td>\n",
              "      <td>5.0</td>\n",
              "      <td>5.0</td>\n",
              "      <td>3.0</td>\n",
              "      <td>5.0</td>\n",
              "      <td>4.0</td>\n",
              "      <td>satisfied</td>\n",
              "    </tr>\n",
              "    <tr>\n",
              "      <th>4</th>\n",
              "      <td>5</td>\n",
              "      <td>49.0</td>\n",
              "      <td>3470.0</td>\n",
              "      <td>0.0</td>\n",
              "      <td>1.0</td>\n",
              "      <td>3.0</td>\n",
              "      <td>3.0</td>\n",
              "      <td>3.0</td>\n",
              "      <td>3.0</td>\n",
              "      <td>4.0</td>\n",
              "      <td>5.0</td>\n",
              "      <td>4.0</td>\n",
              "      <td>3.0</td>\n",
              "      <td>3.0</td>\n",
              "      <td>4.0</td>\n",
              "      <td>3.0</td>\n",
              "      <td>3.0</td>\n",
              "      <td>3.0</td>\n",
              "      <td>5.0</td>\n",
              "      <td>satisfied</td>\n",
              "    </tr>\n",
              "  </tbody>\n",
              "</table>\n",
              "</div>\n",
              "      <button class=\"colab-df-convert\" onclick=\"convertToInteractive('df-d7ffd09a-e720-48e4-a214-499f01a6c325')\"\n",
              "              title=\"Convert this dataframe to an interactive table.\"\n",
              "              style=\"display:none;\">\n",
              "        \n",
              "  <svg xmlns=\"http://www.w3.org/2000/svg\" height=\"24px\"viewBox=\"0 0 24 24\"\n",
              "       width=\"24px\">\n",
              "    <path d=\"M0 0h24v24H0V0z\" fill=\"none\"/>\n",
              "    <path d=\"M18.56 5.44l.94 2.06.94-2.06 2.06-.94-2.06-.94-.94-2.06-.94 2.06-2.06.94zm-11 1L8.5 8.5l.94-2.06 2.06-.94-2.06-.94L8.5 2.5l-.94 2.06-2.06.94zm10 10l.94 2.06.94-2.06 2.06-.94-2.06-.94-.94-2.06-.94 2.06-2.06.94z\"/><path d=\"M17.41 7.96l-1.37-1.37c-.4-.4-.92-.59-1.43-.59-.52 0-1.04.2-1.43.59L10.3 9.45l-7.72 7.72c-.78.78-.78 2.05 0 2.83L4 21.41c.39.39.9.59 1.41.59.51 0 1.02-.2 1.41-.59l7.78-7.78 2.81-2.81c.8-.78.8-2.07 0-2.86zM5.41 20L4 18.59l7.72-7.72 1.47 1.35L5.41 20z\"/>\n",
              "  </svg>\n",
              "      </button>\n",
              "      \n",
              "  <style>\n",
              "    .colab-df-container {\n",
              "      display:flex;\n",
              "      flex-wrap:wrap;\n",
              "      gap: 12px;\n",
              "    }\n",
              "\n",
              "    .colab-df-convert {\n",
              "      background-color: #E8F0FE;\n",
              "      border: none;\n",
              "      border-radius: 50%;\n",
              "      cursor: pointer;\n",
              "      display: none;\n",
              "      fill: #1967D2;\n",
              "      height: 32px;\n",
              "      padding: 0 0 0 0;\n",
              "      width: 32px;\n",
              "    }\n",
              "\n",
              "    .colab-df-convert:hover {\n",
              "      background-color: #E2EBFA;\n",
              "      box-shadow: 0px 1px 2px rgba(60, 64, 67, 0.3), 0px 1px 3px 1px rgba(60, 64, 67, 0.15);\n",
              "      fill: #174EA6;\n",
              "    }\n",
              "\n",
              "    [theme=dark] .colab-df-convert {\n",
              "      background-color: #3B4455;\n",
              "      fill: #D2E3FC;\n",
              "    }\n",
              "\n",
              "    [theme=dark] .colab-df-convert:hover {\n",
              "      background-color: #434B5C;\n",
              "      box-shadow: 0px 1px 3px 1px rgba(0, 0, 0, 0.15);\n",
              "      filter: drop-shadow(0px 1px 2px rgba(0, 0, 0, 0.3));\n",
              "      fill: #FFFFFF;\n",
              "    }\n",
              "  </style>\n",
              "\n",
              "      <script>\n",
              "        const buttonEl =\n",
              "          document.querySelector('#df-d7ffd09a-e720-48e4-a214-499f01a6c325 button.colab-df-convert');\n",
              "        buttonEl.style.display =\n",
              "          google.colab.kernel.accessAllowed ? 'block' : 'none';\n",
              "\n",
              "        async function convertToInteractive(key) {\n",
              "          const element = document.querySelector('#df-d7ffd09a-e720-48e4-a214-499f01a6c325');\n",
              "          const dataTable =\n",
              "            await google.colab.kernel.invokeFunction('convertToInteractive',\n",
              "                                                     [key], {});\n",
              "          if (!dataTable) return;\n",
              "\n",
              "          const docLinkHtml = 'Like what you see? Visit the ' +\n",
              "            '<a target=\"_blank\" href=https://colab.research.google.com/notebooks/data_table.ipynb>data table notebook</a>'\n",
              "            + ' to learn more about interactive tables.';\n",
              "          element.innerHTML = '';\n",
              "          dataTable['output_type'] = 'display_data';\n",
              "          await google.colab.output.renderOutput(dataTable, element);\n",
              "          const docLink = document.createElement('div');\n",
              "          docLink.innerHTML = docLinkHtml;\n",
              "          element.appendChild(docLink);\n",
              "        }\n",
              "      </script>\n",
              "    </div>\n",
              "  </div>\n",
              "  "
            ]
          },
          "metadata": {},
          "execution_count": 12
        }
      ]
    },
    {
      "cell_type": "code",
      "source": [
        "df_num.info()"
      ],
      "metadata": {
        "colab": {
          "base_uri": "https://localhost:8080/"
        },
        "outputId": "7896b821-4eea-409c-c719-5623585aa64c",
        "id": "vddYdOfiDwK7"
      },
      "execution_count": 13,
      "outputs": [
        {
          "output_type": "stream",
          "name": "stdout",
          "text": [
            "<class 'pandas.core.frame.DataFrame'>\n",
            "RangeIndex: 129880 entries, 0 to 129879\n",
            "Data columns (total 20 columns):\n",
            " #   Column                             Non-Null Count   Dtype  \n",
            "---  ------                             --------------   -----  \n",
            " 0   id                                 129880 non-null  int64  \n",
            " 1   Age                                129564 non-null  float64\n",
            " 2   Flight Distance                    129786 non-null  float64\n",
            " 3   Departure Delay in Minutes         129773 non-null  float64\n",
            " 4   Arrival Delay in Minutes           129371 non-null  float64\n",
            " 5   Inflight wifi service              129835 non-null  float64\n",
            " 6   Departure/Arrival time convenient  129831 non-null  float64\n",
            " 7   Ease of Online booking             129837 non-null  float64\n",
            " 8   Gate location                      129842 non-null  float64\n",
            " 9   Food and drink                     129830 non-null  float64\n",
            " 10  Online boarding                    129834 non-null  float64\n",
            " 11  Seat comfort                       129832 non-null  float64\n",
            " 12  Inflight entertainment             129833 non-null  float64\n",
            " 13  On-board service                   129836 non-null  float64\n",
            " 14  Leg room service                   129834 non-null  float64\n",
            " 15  Baggage handling                   129832 non-null  float64\n",
            " 16  Checkin service                    129838 non-null  float64\n",
            " 17  Inflight service                   129817 non-null  float64\n",
            " 18  Cleanliness                        129843 non-null  float64\n",
            " 19  satisfaction                       129880 non-null  object \n",
            "dtypes: float64(18), int64(1), object(1)\n",
            "memory usage: 19.8+ MB\n"
          ]
        }
      ]
    },
    {
      "cell_type": "code",
      "source": [
        "df_num.drop(columns=['id', 'satisfaction'], inplace = True)"
      ],
      "metadata": {
        "id": "EBilmPstEg_l"
      },
      "execution_count": 14,
      "outputs": []
    },
    {
      "cell_type": "markdown",
      "source": [
        "**ОБРАБОТКА ПРИЗНАКОВ ЧИСЛОВОЙ ЧАСТИ НАБОРА ДАННЫХ**"
      ],
      "metadata": {
        "id": "3M6hiJI-FGk7"
      }
    },
    {
      "cell_type": "code",
      "source": [
        "df_num['Age'].value_counts(dropna=False)"
      ],
      "metadata": {
        "colab": {
          "base_uri": "https://localhost:8080/"
        },
        "id": "U4O7treZ83wx",
        "outputId": "aab89494-bbcb-487f-8bd9-85360f085b01"
      },
      "execution_count": 15,
      "outputs": [
        {
          "output_type": "execute_result",
          "data": {
            "text/plain": [
              "39.0     3666\n",
              "25.0     3480\n",
              "40.0     3189\n",
              "44.0     3070\n",
              "41.0     3069\n",
              "         ... \n",
              "261.0       1\n",
              "440.0       1\n",
              "156.0       1\n",
              "155.0       1\n",
              "171.0       1\n",
              "Name: Age, Length: 264, dtype: int64"
            ]
          },
          "metadata": {},
          "execution_count": 15
        }
      ]
    },
    {
      "cell_type": "markdown",
      "source": [
        "Будем считать, что значение возраста более 100 лет является ошибкой. Заменим nan и ошибочные данные на среднее значение возраста."
      ],
      "metadata": {
        "id": "vsxh6rW4F0Oc"
      }
    },
    {
      "cell_type": "code",
      "source": [
        "df_num['Age'].mean()"
      ],
      "metadata": {
        "colab": {
          "base_uri": "https://localhost:8080/"
        },
        "id": "cnNoqxV9DQVj",
        "outputId": "9597a6e0-1c54-4c49-a1bd-7643a0cb4c8b"
      },
      "execution_count": 16,
      "outputs": [
        {
          "output_type": "execute_result",
          "data": {
            "text/plain": [
              "40.11395140625483"
            ]
          },
          "metadata": {},
          "execution_count": 16
        }
      ]
    },
    {
      "cell_type": "code",
      "source": [
        "df_num['Age'].fillna(900, inplace = True)"
      ],
      "metadata": {
        "id": "SWpvKNW8K6ro"
      },
      "execution_count": 17,
      "outputs": []
    },
    {
      "cell_type": "code",
      "source": [
        "df_num['Age'] = np.where(df[\"Age\"] > 100, 40, df['Age'])"
      ],
      "metadata": {
        "id": "k1U_5UQjD0RA"
      },
      "execution_count": 18,
      "outputs": []
    },
    {
      "cell_type": "code",
      "source": [
        "df_num['Flight Distance'].value_counts(dropna=False)"
      ],
      "metadata": {
        "colab": {
          "base_uri": "https://localhost:8080/"
        },
        "id": "6qRsyXPLEYJ1",
        "outputId": "d61965ad-72f7-4a6c-c9b9-29d67fd4f8aa"
      },
      "execution_count": 19,
      "outputs": [
        {
          "output_type": "execute_result",
          "data": {
            "text/plain": [
              "337.0       839\n",
              "594.0       505\n",
              "404.0       480\n",
              "862.0       473\n",
              "2475.0      469\n",
              "           ... \n",
              "1193.0        1\n",
              "216070.0      1\n",
              "141414.0      1\n",
              "81515.0       1\n",
              "110121.0      1\n",
              "Name: Flight Distance, Length: 4060, dtype: int64"
            ]
          },
          "metadata": {},
          "execution_count": 19
        }
      ]
    },
    {
      "cell_type": "markdown",
      "source": [
        "Заменим nan на среднее значение"
      ],
      "metadata": {
        "id": "KZi6j_cnJHxz"
      }
    },
    {
      "cell_type": "code",
      "source": [
        "df_num['Flight Distance'].mean()"
      ],
      "metadata": {
        "colab": {
          "base_uri": "https://localhost:8080/"
        },
        "id": "v_FrqcyTE0pG",
        "outputId": "506b6239-24e2-4bc3-8318-986ab2cee9ba"
      },
      "execution_count": 20,
      "outputs": [
        {
          "output_type": "execute_result",
          "data": {
            "text/plain": [
              "1323.3858043240411"
            ]
          },
          "metadata": {},
          "execution_count": 20
        }
      ]
    },
    {
      "cell_type": "code",
      "source": [
        "df_num['Flight Distance'].fillna(1323, inplace=True)"
      ],
      "metadata": {
        "id": "L5D0v_k5E-GJ"
      },
      "execution_count": 21,
      "outputs": []
    },
    {
      "cell_type": "code",
      "source": [
        "df_num['Departure Delay in Minutes'].value_counts(dropna=False)"
      ],
      "metadata": {
        "colab": {
          "base_uri": "https://localhost:8080/"
        },
        "id": "UHgedP5jJ3-y",
        "outputId": "15acb989-20ab-4ae1-c58e-2452531af7db"
      },
      "execution_count": 22,
      "outputs": [
        {
          "output_type": "execute_result",
          "data": {
            "text/plain": [
              "0.0       73291\n",
              "1.0        3674\n",
              "2.0        2844\n",
              "3.0        2521\n",
              "4.0        2303\n",
              "          ...  \n",
              "376.0         1\n",
              "2093.0        1\n",
              "610.0         1\n",
              "426.0         1\n",
              "1014.0        1\n",
              "Name: Departure Delay in Minutes, Length: 523, dtype: int64"
            ]
          },
          "metadata": {},
          "execution_count": 22
        }
      ]
    },
    {
      "cell_type": "markdown",
      "source": [
        "Заменим nan на среднее значение"
      ],
      "metadata": {
        "id": "TA4RlVyfKQdJ"
      }
    },
    {
      "cell_type": "code",
      "source": [
        "df_num['Departure Delay in Minutes'].mean()"
      ],
      "metadata": {
        "colab": {
          "base_uri": "https://localhost:8080/"
        },
        "id": "_FXrubdCFWZy",
        "outputId": "81f16d7d-2d32-4da6-db31-fcc63450a680"
      },
      "execution_count": 23,
      "outputs": [
        {
          "output_type": "execute_result",
          "data": {
            "text/plain": [
              "15.811301272221494"
            ]
          },
          "metadata": {},
          "execution_count": 23
        }
      ]
    },
    {
      "cell_type": "code",
      "source": [
        "df_num['Departure Delay in Minutes'].fillna(16, inplace=True)"
      ],
      "metadata": {
        "id": "Rhnc7ROBFdvk"
      },
      "execution_count": 24,
      "outputs": []
    },
    {
      "cell_type": "code",
      "source": [
        "df_num['Arrival Delay in Minutes'].value_counts(dropna=False)"
      ],
      "metadata": {
        "colab": {
          "base_uri": "https://localhost:8080/"
        },
        "id": "KXdXnmdhLm75",
        "outputId": "55e341e7-a317-4500-f347-e868c7bdd9cb"
      },
      "execution_count": 25,
      "outputs": [
        {
          "output_type": "execute_result",
          "data": {
            "text/plain": [
              "0.0       72683\n",
              "1.0        2738\n",
              "2.0        2582\n",
              "3.0        2439\n",
              "4.0        2370\n",
              "          ...  \n",
              "370.0         1\n",
              "282.0         1\n",
              "448.0         1\n",
              "7442.0        1\n",
              "1463.0        1\n",
              "Name: Arrival Delay in Minutes, Length: 535, dtype: int64"
            ]
          },
          "metadata": {},
          "execution_count": 25
        }
      ]
    },
    {
      "cell_type": "markdown",
      "source": [
        "Заменим nan на среднее значение."
      ],
      "metadata": {
        "id": "JX8FYGK8Lwtm"
      }
    },
    {
      "cell_type": "code",
      "source": [
        "df_num['Arrival Delay in Minutes'].mean()"
      ],
      "metadata": {
        "colab": {
          "base_uri": "https://localhost:8080/"
        },
        "id": "zbaCCq5kFrCn",
        "outputId": "526d3c72-fb4f-4af0-8cbe-44bded367a05"
      },
      "execution_count": 26,
      "outputs": [
        {
          "output_type": "execute_result",
          "data": {
            "text/plain": [
              "16.651405647324363"
            ]
          },
          "metadata": {},
          "execution_count": 26
        }
      ]
    },
    {
      "cell_type": "code",
      "source": [
        "df_num['Arrival Delay in Minutes'].fillna(16, inplace=True)"
      ],
      "metadata": {
        "id": "r9D4KunzFvzs"
      },
      "execution_count": 27,
      "outputs": []
    },
    {
      "cell_type": "markdown",
      "source": [
        "Оставшиеся числовые признаки являются оценкой качества услуги по пятибальной шкале. Распределим значения nan и оценки, превышающие 5 по значениям межд1 0 и 5, не нарушая характеристики случайого распределения. Для выпонения этой задачи написана процедура distr."
      ],
      "metadata": {
        "id": "XX-_QxG1MLCa"
      }
    },
    {
      "cell_type": "code",
      "source": [
        "def distr(colName, maxQty):\n",
        "  L = df_num[colName].value_counts(dropna=False, normalize=True)\n",
        "  total = maxQty\n",
        "  qty = []\n",
        "  rang = []\n",
        "  for i in range(len(L)):\n",
        "    if L.index[i] != -1:\n",
        "      qty.append(int(total*L.iloc[i]))\n",
        "      rang.append(L.index[i])\n",
        "  if sum(qty) != total:\n",
        "    qty[-1] += total - sum(qty)\n",
        "  print(qty)\n",
        "  key = 0\n",
        "  for idx, r in df_num[colName].items():\n",
        "    if r == -1:\n",
        "      if qty[key] != 0:\n",
        "        df_num.at[idx, colName] = rang[key]\n",
        "        qty[key] -= 1\n",
        "      else:\n",
        "        key += 1\n",
        "        if key == len(qty):\n",
        "          print('break',  key)\n",
        "          break\n",
        "        df_num.at[idx, colName] = rang[key]\n",
        "        qty[key] -= 1"
      ],
      "metadata": {
        "id": "cstp3E5Sv_ya"
      },
      "execution_count": 28,
      "outputs": []
    },
    {
      "cell_type": "markdown",
      "source": [
        "В оставшейся части габора данных заменим nan на -1 (для обеспечения работы процедуры distr)"
      ],
      "metadata": {
        "id": "cqMRf3WaPV9I"
      }
    },
    {
      "cell_type": "code",
      "source": [
        "df_num.fillna(-1, axis=1, inplace=True)"
      ],
      "metadata": {
        "id": "6R-w4h6xPmKU"
      },
      "execution_count": 29,
      "outputs": []
    },
    {
      "cell_type": "code",
      "source": [
        "df_num['Inflight wifi service'] = np.where(df_num['Inflight wifi service'] > 5, -1, df_num['Inflight wifi service'])"
      ],
      "metadata": {
        "id": "Dghk249hw0ot"
      },
      "execution_count": 30,
      "outputs": []
    },
    {
      "cell_type": "code",
      "source": [
        "df_num['Inflight wifi service'].value_counts(dropna=False)"
      ],
      "metadata": {
        "colab": {
          "base_uri": "https://localhost:8080/"
        },
        "id": "Xrq5cwBZQBGn",
        "outputId": "7f11aa71-d96d-4171-e8bc-ba845a93262d"
      },
      "execution_count": 31,
      "outputs": [
        {
          "output_type": "execute_result",
          "data": {
            "text/plain": [
              " 2.0    32306\n",
              " 3.0    32156\n",
              " 4.0    24758\n",
              " 1.0    22318\n",
              " 5.0    14345\n",
              " 0.0     3918\n",
              "-1.0       79\n",
              "Name: Inflight wifi service, dtype: int64"
            ]
          },
          "metadata": {},
          "execution_count": 31
        }
      ]
    },
    {
      "cell_type": "code",
      "source": [
        "distr('Inflight wifi service',79)"
      ],
      "metadata": {
        "colab": {
          "base_uri": "https://localhost:8080/"
        },
        "id": "OrW3uOZ3_TX4",
        "outputId": "1cb2fef2-f114-45ca-8e91-b0e951f66cb1"
      },
      "execution_count": 32,
      "outputs": [
        {
          "output_type": "stream",
          "name": "stdout",
          "text": [
            "[19, 19, 15, 13, 8, 5]\n"
          ]
        }
      ]
    },
    {
      "cell_type": "code",
      "source": [
        "df_num['Departure/Arrival time convenient'] = np.where(df_num['Departure/Arrival time convenient'] > 5, -1, df_num['Departure/Arrival time convenient'])"
      ],
      "metadata": {
        "id": "tGo5ySmLGcEP"
      },
      "execution_count": 33,
      "outputs": []
    },
    {
      "cell_type": "code",
      "source": [
        "df_num['Departure/Arrival time convenient'].value_counts(dropna=False)"
      ],
      "metadata": {
        "colab": {
          "base_uri": "https://localhost:8080/"
        },
        "id": "Cnk5f6eQF9WO",
        "outputId": "b81a9490-4a0c-4aa0-bb04-7efcf3c80cd6"
      },
      "execution_count": 34,
      "outputs": [
        {
          "output_type": "execute_result",
          "data": {
            "text/plain": [
              " 4.0    31862\n",
              " 5.0    27974\n",
              " 3.0    22362\n",
              " 2.0    21516\n",
              " 1.0    19392\n",
              " 0.0     6686\n",
              "-1.0       88\n",
              "Name: Departure/Arrival time convenient, dtype: int64"
            ]
          },
          "metadata": {},
          "execution_count": 34
        }
      ]
    },
    {
      "cell_type": "code",
      "source": [
        "distr('Departure/Arrival time convenient', 88)"
      ],
      "metadata": {
        "colab": {
          "base_uri": "https://localhost:8080/"
        },
        "id": "hmGLVCnWBa5F",
        "outputId": "9d956e2f-3611-41af-f4d0-ba411cb36080"
      },
      "execution_count": 35,
      "outputs": [
        {
          "output_type": "stream",
          "name": "stdout",
          "text": [
            "[21, 18, 15, 14, 13, 7]\n"
          ]
        }
      ]
    },
    {
      "cell_type": "code",
      "source": [
        "df_num['Ease of Online booking'] = np.where(df_num['Ease of Online booking'] > 5, -1, df_num['Ease of Online booking'])"
      ],
      "metadata": {
        "id": "zY7XV9jUfRYf"
      },
      "execution_count": 36,
      "outputs": []
    },
    {
      "cell_type": "code",
      "source": [
        "df_num['Ease of Online booking'].value_counts(dropna=False)"
      ],
      "metadata": {
        "colab": {
          "base_uri": "https://localhost:8080/"
        },
        "id": "LhjwDr7Ce3gJ",
        "outputId": "eaccbadd-2f2b-44c5-8625-a90fc3a05cfb"
      },
      "execution_count": 37,
      "outputs": [
        {
          "output_type": "execute_result",
          "data": {
            "text/plain": [
              " 3.0    30382\n",
              " 2.0    30036\n",
              " 4.0    24424\n",
              " 1.0    21868\n",
              " 5.0    17414\n",
              " 0.0     5683\n",
              "-1.0       73\n",
              "Name: Ease of Online booking, dtype: int64"
            ]
          },
          "metadata": {},
          "execution_count": 37
        }
      ]
    },
    {
      "cell_type": "code",
      "source": [
        "distr('Ease of Online booking', 73)"
      ],
      "metadata": {
        "colab": {
          "base_uri": "https://localhost:8080/"
        },
        "id": "PIJkLuxiCjpV",
        "outputId": "0c57b448-05a1-459c-c8e7-8cafae735964"
      },
      "execution_count": 38,
      "outputs": [
        {
          "output_type": "stream",
          "name": "stdout",
          "text": [
            "[17, 16, 13, 12, 9, 6]\n"
          ]
        }
      ]
    },
    {
      "cell_type": "code",
      "source": [
        "df_num['Gate location'] = np.where(df_num['Gate location'] > 5, -1, df_num['Gate location'])"
      ],
      "metadata": {
        "id": "TNmWXMbzgDOm"
      },
      "execution_count": 39,
      "outputs": []
    },
    {
      "cell_type": "code",
      "source": [
        "df_num['Gate location'].value_counts(dropna=False)"
      ],
      "metadata": {
        "colab": {
          "base_uri": "https://localhost:8080/"
        },
        "id": "Pe1kMSIsfm_r",
        "outputId": "2bd46008-be98-4f7b-be6b-c45d2c847a8a"
      },
      "execution_count": 40,
      "outputs": [
        {
          "output_type": "execute_result",
          "data": {
            "text/plain": [
              " 3.0    35695\n",
              " 4.0    30445\n",
              " 2.0    24278\n",
              " 1.0    21981\n",
              " 5.0    17399\n",
              "-1.0       81\n",
              " 0.0        1\n",
              "Name: Gate location, dtype: int64"
            ]
          },
          "metadata": {},
          "execution_count": 40
        }
      ]
    },
    {
      "cell_type": "code",
      "source": [
        "distr('Gate location', 81)"
      ],
      "metadata": {
        "colab": {
          "base_uri": "https://localhost:8080/"
        },
        "id": "Q677FoZiDc5r",
        "outputId": "0cd8aa82-f4bc-4d62-dad2-51f4d4b5fe40"
      },
      "execution_count": 41,
      "outputs": [
        {
          "output_type": "stream",
          "name": "stdout",
          "text": [
            "[22, 18, 15, 13, 10, 3]\n"
          ]
        }
      ]
    },
    {
      "cell_type": "code",
      "source": [
        "df_num['Gate location'] = np.where(df_num['Gate location'] == -1, 0, df_num['Gate location'])"
      ],
      "metadata": {
        "id": "f-h6aHP7EaoF"
      },
      "execution_count": 42,
      "outputs": []
    },
    {
      "cell_type": "code",
      "source": [
        "df_num['Food and drink'] = np.where(df_num['Food and drink'] > 5, -1, df_num['Food and drink'])"
      ],
      "metadata": {
        "id": "yyBl5_hGhWro"
      },
      "execution_count": 43,
      "outputs": []
    },
    {
      "cell_type": "code",
      "source": [
        "df_num['Food and drink'].value_counts(dropna=False)"
      ],
      "metadata": {
        "colab": {
          "base_uri": "https://localhost:8080/"
        },
        "id": "p0_Rwvvlg9RD",
        "outputId": "549f3678-bbf3-4fb1-f931-145ad9fa6d8c"
      },
      "execution_count": 44,
      "outputs": [
        {
          "output_type": "execute_result",
          "data": {
            "text/plain": [
              " 4.0    30546\n",
              " 5.0    27947\n",
              " 3.0    27769\n",
              " 2.0    27363\n",
              " 1.0    16035\n",
              " 0.0      138\n",
              "-1.0       82\n",
              "Name: Food and drink, dtype: int64"
            ]
          },
          "metadata": {},
          "execution_count": 44
        }
      ]
    },
    {
      "cell_type": "code",
      "source": [
        "distr('Food and drink', 82)"
      ],
      "metadata": {
        "colab": {
          "base_uri": "https://localhost:8080/"
        },
        "id": "SCzavkHAE5jG",
        "outputId": "8eb711f0-8a3c-476f-ef7a-c6150e03e8d8"
      },
      "execution_count": 45,
      "outputs": [
        {
          "output_type": "stream",
          "name": "stdout",
          "text": [
            "[19, 17, 17, 17, 10, 2]\n"
          ]
        }
      ]
    },
    {
      "cell_type": "code",
      "source": [
        "df_num['Online boarding'] = np.where(df_num['Online boarding'] > 5, -1, df_num['Online boarding'])"
      ],
      "metadata": {
        "id": "cI8zNjBckX4p"
      },
      "execution_count": 46,
      "outputs": []
    },
    {
      "cell_type": "code",
      "source": [
        "df_num['Online boarding'].value_counts(dropna=False)"
      ],
      "metadata": {
        "colab": {
          "base_uri": "https://localhost:8080/"
        },
        "id": "-r6xX3pdj-iZ",
        "outputId": "2f1aa32f-8a4a-41d0-c46e-51e15595433e"
      },
      "execution_count": 47,
      "outputs": [
        {
          "output_type": "execute_result",
          "data": {
            "text/plain": [
              " 4.0    38439\n",
              " 3.0    27105\n",
              " 5.0    26001\n",
              " 2.0    21926\n",
              " 1.0    13245\n",
              " 0.0     3084\n",
              "-1.0       80\n",
              "Name: Online boarding, dtype: int64"
            ]
          },
          "metadata": {},
          "execution_count": 47
        }
      ]
    },
    {
      "cell_type": "code",
      "source": [
        "distr('Online boarding', 80)"
      ],
      "metadata": {
        "colab": {
          "base_uri": "https://localhost:8080/"
        },
        "id": "cLRk_wdpFawU",
        "outputId": "819b55c2-37f0-4c9b-9e26-fbdbc84217b5"
      },
      "execution_count": 48,
      "outputs": [
        {
          "output_type": "stream",
          "name": "stdout",
          "text": [
            "[23, 16, 16, 13, 8, 4]\n"
          ]
        }
      ]
    },
    {
      "cell_type": "code",
      "source": [
        "df_num['Seat comfort'] = np.where(df_num['Seat comfort'] > 5, -1, df_num['Seat comfort'])"
      ],
      "metadata": {
        "id": "aCqiGyXkUlan"
      },
      "execution_count": 49,
      "outputs": []
    },
    {
      "cell_type": "code",
      "source": [
        "df_num['Seat comfort'].value_counts(dropna=False)"
      ],
      "metadata": {
        "colab": {
          "base_uri": "https://localhost:8080/"
        },
        "id": "DjVMtG8OFpCx",
        "outputId": "8eb7257c-1489-418b-87aa-f82b690907da"
      },
      "execution_count": 50,
      "outputs": [
        {
          "output_type": "execute_result",
          "data": {
            "text/plain": [
              " 4.0    39727\n",
              " 5.0    33139\n",
              " 3.0    23308\n",
              " 2.0    18513\n",
              " 1.0    15096\n",
              "-1.0       91\n",
              " 0.0        6\n",
              "Name: Seat comfort, dtype: int64"
            ]
          },
          "metadata": {},
          "execution_count": 50
        }
      ]
    },
    {
      "cell_type": "code",
      "source": [
        "distr('Seat comfort', 91)"
      ],
      "metadata": {
        "colab": {
          "base_uri": "https://localhost:8080/"
        },
        "id": "UHInF6urF0uD",
        "outputId": "1a5f11e4-ef40-4e3e-db46-e24cc2f7ec31"
      },
      "execution_count": 51,
      "outputs": [
        {
          "output_type": "stream",
          "name": "stdout",
          "text": [
            "[27, 23, 16, 12, 10, 3]\n"
          ]
        }
      ]
    },
    {
      "cell_type": "code",
      "source": [
        "df_num['Seat comfort'] = np.where(df_num['Seat comfort'] == -1, 0, df_num['Seat comfort'])"
      ],
      "metadata": {
        "id": "jMyXcxPmGB_k"
      },
      "execution_count": 52,
      "outputs": []
    },
    {
      "cell_type": "code",
      "source": [
        "df_num['Inflight entertainment'] = np.where(df_num['Inflight entertainment'] > 5, -1, df_num['Inflight entertainment'])"
      ],
      "metadata": {
        "id": "AsqG4wQtk3nX"
      },
      "execution_count": 53,
      "outputs": []
    },
    {
      "cell_type": "code",
      "source": [
        "df_num['Inflight entertainment'].value_counts(dropna=False)"
      ],
      "metadata": {
        "colab": {
          "base_uri": "https://localhost:8080/"
        },
        "id": "AmjCCXQSGQl7",
        "outputId": "ba8b5d27-b740-4b9c-d4c7-7b7ea9e27b65"
      },
      "execution_count": 54,
      "outputs": [
        {
          "output_type": "execute_result",
          "data": {
            "text/plain": [
              " 4.0    36770\n",
              " 5.0    31524\n",
              " 3.0    23872\n",
              " 2.0    21948\n",
              " 1.0    15670\n",
              "-1.0       73\n",
              " 0.0       23\n",
              "Name: Inflight entertainment, dtype: int64"
            ]
          },
          "metadata": {},
          "execution_count": 54
        }
      ]
    },
    {
      "cell_type": "code",
      "source": [
        "distr('Inflight entertainment', 73)"
      ],
      "metadata": {
        "colab": {
          "base_uri": "https://localhost:8080/"
        },
        "id": "I_cbeNIwGaA8",
        "outputId": "de2905a1-8006-431c-c6cd-c23c332e402c"
      },
      "execution_count": 55,
      "outputs": [
        {
          "output_type": "stream",
          "name": "stdout",
          "text": [
            "[20, 17, 13, 12, 8, 3]\n"
          ]
        }
      ]
    },
    {
      "cell_type": "code",
      "source": [
        "df_num['Inflight entertainment'] = np.where(df_num['Inflight entertainment'] == -1, 0, df_num['Inflight entertainment'])"
      ],
      "metadata": {
        "id": "vgovsK0CHZFq"
      },
      "execution_count": 56,
      "outputs": []
    },
    {
      "cell_type": "code",
      "source": [
        "df_num['On-board service'] = np.where(df_num['On-board service'] > 5, -1, df_num['On-board service'])"
      ],
      "metadata": {
        "id": "o5xOwP-dlD6F"
      },
      "execution_count": 57,
      "outputs": []
    },
    {
      "cell_type": "code",
      "source": [
        "df_num['On-board service'].value_counts(dropna=False)"
      ],
      "metadata": {
        "colab": {
          "base_uri": "https://localhost:8080/"
        },
        "id": "s78V3nIHHpxz",
        "outputId": "bd4ce596-2230-4e38-84f1-e277b1cf4e1d"
      },
      "execution_count": 58,
      "outputs": [
        {
          "output_type": "execute_result",
          "data": {
            "text/plain": [
              " 4.0    38671\n",
              " 5.0    29472\n",
              " 3.0    28528\n",
              " 2.0    18345\n",
              " 1.0    14783\n",
              "-1.0       72\n",
              " 0.0        9\n",
              "Name: On-board service, dtype: int64"
            ]
          },
          "metadata": {},
          "execution_count": 58
        }
      ]
    },
    {
      "cell_type": "code",
      "source": [
        "distr('On-board service', 72)"
      ],
      "metadata": {
        "colab": {
          "base_uri": "https://localhost:8080/"
        },
        "id": "w62uioxBIGLi",
        "outputId": "fff04c51-4141-4261-944a-32b5f8f04b0f"
      },
      "execution_count": 59,
      "outputs": [
        {
          "output_type": "stream",
          "name": "stdout",
          "text": [
            "[21, 16, 15, 10, 8, 2]\n"
          ]
        }
      ]
    },
    {
      "cell_type": "code",
      "source": [
        "df_num['Leg room service'] = np.where(df_num['Leg room service'] > 5, -1, df_num['Leg room service'])"
      ],
      "metadata": {
        "id": "02sFkXE6lOJ4"
      },
      "execution_count": 60,
      "outputs": []
    },
    {
      "cell_type": "code",
      "source": [
        "df_num['Leg room service'].value_counts(dropna=False)"
      ],
      "metadata": {
        "colab": {
          "base_uri": "https://localhost:8080/"
        },
        "id": "GRzBMACtK9mp",
        "outputId": "9c8c8d1f-c3eb-4a96-83ae-69850f878416"
      },
      "execution_count": 61,
      "outputs": [
        {
          "output_type": "execute_result",
          "data": {
            "text/plain": [
              " 4.0    35863\n",
              " 5.0    30878\n",
              " 3.0    25038\n",
              " 2.0    24524\n",
              " 1.0    12887\n",
              " 0.0      603\n",
              "-1.0       87\n",
              "Name: Leg room service, dtype: int64"
            ]
          },
          "metadata": {},
          "execution_count": 61
        }
      ]
    },
    {
      "cell_type": "code",
      "source": [
        "distr('Leg room service', 87)"
      ],
      "metadata": {
        "colab": {
          "base_uri": "https://localhost:8080/"
        },
        "id": "SL01sBmbLrsk",
        "outputId": "78ac1de5-d259-41e0-cfd2-870854ae4642"
      },
      "execution_count": 62,
      "outputs": [
        {
          "output_type": "stream",
          "name": "stdout",
          "text": [
            "[24, 20, 16, 16, 8, 3]\n"
          ]
        }
      ]
    },
    {
      "cell_type": "code",
      "source": [
        "df_num['Baggage handling'] = np.where(df_num['Baggage handling'] > 5, -1, df_num['Baggage handling'])"
      ],
      "metadata": {
        "id": "Jd0duAnUlX_N"
      },
      "execution_count": 63,
      "outputs": []
    },
    {
      "cell_type": "code",
      "source": [
        "df_num['Baggage handling'].value_counts(dropna=False)"
      ],
      "metadata": {
        "colab": {
          "base_uri": "https://localhost:8080/"
        },
        "id": "nCg8uFAlMAxC",
        "outputId": "c8ebbb49-1fbc-4609-edb7-661cd092374f"
      },
      "execution_count": 64,
      "outputs": [
        {
          "output_type": "execute_result",
          "data": {
            "text/plain": [
              " 4.0    46729\n",
              " 5.0    33857\n",
              " 3.0    25836\n",
              " 2.0    14352\n",
              " 1.0     9023\n",
              "-1.0       77\n",
              " 0.0        6\n",
              "Name: Baggage handling, dtype: int64"
            ]
          },
          "metadata": {},
          "execution_count": 64
        }
      ]
    },
    {
      "cell_type": "code",
      "source": [
        "distr('Baggage handling', 77)"
      ],
      "metadata": {
        "colab": {
          "base_uri": "https://localhost:8080/"
        },
        "id": "d3VgtzxIMKPK",
        "outputId": "98f5d6b4-44e4-4f74-e2bb-2c838385b94f"
      },
      "execution_count": 65,
      "outputs": [
        {
          "output_type": "stream",
          "name": "stdout",
          "text": [
            "[27, 20, 15, 8, 5, 2]\n"
          ]
        }
      ]
    },
    {
      "cell_type": "code",
      "source": [
        "df_num['Checkin service'] = np.where(df_num['Checkin service'] > 5, -1, df_num['Checkin service'])"
      ],
      "metadata": {
        "id": "MY6y_wkllpav"
      },
      "execution_count": 66,
      "outputs": []
    },
    {
      "cell_type": "code",
      "source": [
        "df_num['Checkin service'].value_counts(dropna=False)"
      ],
      "metadata": {
        "colab": {
          "base_uri": "https://localhost:8080/"
        },
        "id": "mLAgjcsdM3RT",
        "outputId": "f38faf93-c7e9-4730-ac16-886a1b61548d"
      },
      "execution_count": 67,
      "outputs": [
        {
          "output_type": "execute_result",
          "data": {
            "text/plain": [
              " 4.0    36310\n",
              " 3.0    35430\n",
              " 5.0    25867\n",
              " 1.0    16094\n",
              " 2.0    16093\n",
              "-1.0       80\n",
              " 0.0        6\n",
              "Name: Checkin service, dtype: int64"
            ]
          },
          "metadata": {},
          "execution_count": 67
        }
      ]
    },
    {
      "cell_type": "code",
      "source": [
        "distr('Checkin service', 80)"
      ],
      "metadata": {
        "colab": {
          "base_uri": "https://localhost:8080/"
        },
        "id": "aAozozP8M_Xx",
        "outputId": "b89675f7-6041-4d08-b56a-a720f517f270"
      },
      "execution_count": 68,
      "outputs": [
        {
          "output_type": "stream",
          "name": "stdout",
          "text": [
            "[22, 21, 15, 9, 9, 4]\n"
          ]
        }
      ]
    },
    {
      "cell_type": "code",
      "source": [
        "df_num['Inflight service'] = np.where(df_num['Inflight service'] > 5, -1, df_num['Inflight service'])"
      ],
      "metadata": {
        "id": "D98fQRXolzq2"
      },
      "execution_count": 69,
      "outputs": []
    },
    {
      "cell_type": "code",
      "source": [
        "df_num['Inflight service'].value_counts(dropna=False)"
      ],
      "metadata": {
        "colab": {
          "base_uri": "https://localhost:8080/"
        },
        "id": "-1YtxLrsOhhg",
        "outputId": "f403cadf-0655-4075-9b82-d8b7d40f79e1"
      },
      "execution_count": 70,
      "outputs": [
        {
          "output_type": "execute_result",
          "data": {
            "text/plain": [
              " 4.0    47283\n",
              " 5.0    34044\n",
              " 3.0    25294\n",
              " 2.0    14291\n",
              " 1.0     8856\n",
              "-1.0      106\n",
              " 0.0        6\n",
              "Name: Inflight service, dtype: int64"
            ]
          },
          "metadata": {},
          "execution_count": 70
        }
      ]
    },
    {
      "cell_type": "code",
      "source": [
        "distr('Inflight service', 106)"
      ],
      "metadata": {
        "colab": {
          "base_uri": "https://localhost:8080/"
        },
        "id": "wcHVqVB8Ouve",
        "outputId": "541b363b-c8c8-4d97-8268-b9e9b13933c5"
      },
      "execution_count": 71,
      "outputs": [
        {
          "output_type": "stream",
          "name": "stdout",
          "text": [
            "[38, 27, 20, 11, 7, 3]\n"
          ]
        }
      ]
    },
    {
      "cell_type": "code",
      "source": [
        "df_num['Cleanliness'] = np.where(df_num['Cleanliness'] > 5, -1, df_num['Cleanliness'])"
      ],
      "metadata": {
        "id": "-OUQOaRFl_Xk"
      },
      "execution_count": 72,
      "outputs": []
    },
    {
      "cell_type": "code",
      "source": [
        "df_num['Cleanliness'].value_counts(dropna=False)"
      ],
      "metadata": {
        "colab": {
          "base_uri": "https://localhost:8080/"
        },
        "id": "g8_0YFuaPQyu",
        "outputId": "0d7dcde1-acc4-420f-f209-13e085615e8b"
      },
      "execution_count": 73,
      "outputs": [
        {
          "output_type": "execute_result",
          "data": {
            "text/plain": [
              " 4.0    33956\n",
              " 3.0    30624\n",
              " 5.0    28396\n",
              " 2.0    20096\n",
              " 1.0    16723\n",
              "-1.0       65\n",
              " 0.0       20\n",
              "Name: Cleanliness, dtype: int64"
            ]
          },
          "metadata": {},
          "execution_count": 73
        }
      ]
    },
    {
      "cell_type": "code",
      "source": [
        "distr('Cleanliness', 65)"
      ],
      "metadata": {
        "colab": {
          "base_uri": "https://localhost:8080/"
        },
        "id": "9RngGflMQm_u",
        "outputId": "155abcbf-0c07-437f-daab-4541ca4a8c7a"
      },
      "execution_count": 74,
      "outputs": [
        {
          "output_type": "stream",
          "name": "stdout",
          "text": [
            "[16, 15, 14, 10, 8, 2]\n"
          ]
        }
      ]
    },
    {
      "cell_type": "code",
      "source": [
        "df_num.info()"
      ],
      "metadata": {
        "colab": {
          "base_uri": "https://localhost:8080/"
        },
        "id": "ccN8J-BuTv2u",
        "outputId": "8ddfca2d-44a5-4473-8e57-be2c03df56fd"
      },
      "execution_count": 75,
      "outputs": [
        {
          "output_type": "stream",
          "name": "stdout",
          "text": [
            "<class 'pandas.core.frame.DataFrame'>\n",
            "RangeIndex: 129880 entries, 0 to 129879\n",
            "Data columns (total 18 columns):\n",
            " #   Column                             Non-Null Count   Dtype  \n",
            "---  ------                             --------------   -----  \n",
            " 0   Age                                129880 non-null  float64\n",
            " 1   Flight Distance                    129880 non-null  float64\n",
            " 2   Departure Delay in Minutes         129880 non-null  float64\n",
            " 3   Arrival Delay in Minutes           129880 non-null  float64\n",
            " 4   Inflight wifi service              129880 non-null  float64\n",
            " 5   Departure/Arrival time convenient  129880 non-null  float64\n",
            " 6   Ease of Online booking             129880 non-null  float64\n",
            " 7   Gate location                      129880 non-null  float64\n",
            " 8   Food and drink                     129880 non-null  float64\n",
            " 9   Online boarding                    129880 non-null  float64\n",
            " 10  Seat comfort                       129880 non-null  float64\n",
            " 11  Inflight entertainment             129880 non-null  float64\n",
            " 12  On-board service                   129880 non-null  float64\n",
            " 13  Leg room service                   129880 non-null  float64\n",
            " 14  Baggage handling                   129880 non-null  float64\n",
            " 15  Checkin service                    129880 non-null  float64\n",
            " 16  Inflight service                   129880 non-null  float64\n",
            " 17  Cleanliness                        129880 non-null  float64\n",
            "dtypes: float64(18)\n",
            "memory usage: 17.8 MB\n"
          ]
        }
      ]
    },
    {
      "cell_type": "code",
      "source": [
        "df_num.isna().any()"
      ],
      "metadata": {
        "colab": {
          "base_uri": "https://localhost:8080/"
        },
        "id": "QLQWn0Rd7SJY",
        "outputId": "18da4104-452c-4b0c-8bd2-5272d9b9e79d"
      },
      "execution_count": 77,
      "outputs": [
        {
          "output_type": "execute_result",
          "data": {
            "text/plain": [
              "Age                                  False\n",
              "Flight Distance                      False\n",
              "Departure Delay in Minutes           False\n",
              "Arrival Delay in Minutes             False\n",
              "Inflight wifi service                False\n",
              "Departure/Arrival time convenient    False\n",
              "Ease of Online booking               False\n",
              "Gate location                        False\n",
              "Food and drink                       False\n",
              "Online boarding                      False\n",
              "Seat comfort                         False\n",
              "Inflight entertainment               False\n",
              "On-board service                     False\n",
              "Leg room service                     False\n",
              "Baggage handling                     False\n",
              "Checkin service                      False\n",
              "Inflight service                     False\n",
              "Cleanliness                          False\n",
              "dtype: bool"
            ]
          },
          "metadata": {},
          "execution_count": 77
        }
      ]
    },
    {
      "cell_type": "markdown",
      "source": [
        "**НОРМАЛИЗАЦИЯ ЧИСЛОВОЙ ЧАСТИ НАБОРА ДАННЫХ**"
      ],
      "metadata": {
        "id": "lT3AP-noaVgl"
      }
    },
    {
      "cell_type": "code",
      "source": [
        "from sklearn.preprocessing import MinMaxScaler\n",
        "\n",
        "ss = MinMaxScaler()\n",
        "ss.fit(df_num)\n",
        "\n",
        "df_num_scale = pd.DataFrame(ss.transform(df_num), columns=df_num.columns)\n",
        "df_num_scale.head()"
      ],
      "metadata": {
        "colab": {
          "base_uri": "https://localhost:8080/",
          "height": 285
        },
        "id": "vtcecgJgakdU",
        "outputId": "891a8c66-53ef-42a2-decb-58572ab5fafe"
      },
      "execution_count": 79,
      "outputs": [
        {
          "output_type": "execute_result",
          "data": {
            "text/plain": [
              "        Age  Flight Distance  Departure Delay in Minutes  \\\n",
              "0  0.485149         0.002163                     0.00009   \n",
              "1  0.356436         0.002163                     0.00117   \n",
              "2  0.415842         0.002247                     0.00000   \n",
              "3  0.504950         0.005018                     0.00000   \n",
              "4  0.495050         0.009141                     0.00000   \n",
              "\n",
              "   Arrival Delay in Minutes  Inflight wifi service  \\\n",
              "0                  0.000357                    0.6   \n",
              "1                  0.002785                    0.4   \n",
              "2                  0.000000                    0.8   \n",
              "3                  0.000000                    0.4   \n",
              "4                  0.000071                    0.6   \n",
              "\n",
              "   Departure/Arrival time convenient  Ease of Online booking  Gate location  \\\n",
              "0                                0.6                     0.6            0.6   \n",
              "1                                0.4                     0.4            0.4   \n",
              "2                                0.8                     0.8            0.8   \n",
              "3                                0.4                     0.4            0.4   \n",
              "4                                0.6                     0.6            0.6   \n",
              "\n",
              "   Food and drink  Online boarding  Seat comfort  Inflight entertainment  \\\n",
              "0             1.0              0.6           1.0                     1.0   \n",
              "1             0.6              1.0           0.8                     1.0   \n",
              "2             1.0              1.0           1.0                     0.6   \n",
              "3             0.8              0.8           1.0                     1.0   \n",
              "4             0.8              1.0           0.8                     0.6   \n",
              "\n",
              "   On-board service  Leg room service  Baggage handling  Checkin service  \\\n",
              "0               0.6               0.4               1.0              0.8   \n",
              "1               1.0               1.0               1.0              0.6   \n",
              "2               0.6               0.6               0.6              0.8   \n",
              "3               1.0               1.0               1.0              0.6   \n",
              "4               0.6               0.8               0.6              0.6   \n",
              "\n",
              "   Inflight service  Cleanliness  \n",
              "0               1.0          1.0  \n",
              "1               1.0          1.0  \n",
              "2               0.6          1.0  \n",
              "3               1.0          0.8  \n",
              "4               0.6          1.0  "
            ],
            "text/html": [
              "\n",
              "  <div id=\"df-da4a71c3-ad38-4358-ae84-090dd5e3418d\">\n",
              "    <div class=\"colab-df-container\">\n",
              "      <div>\n",
              "<style scoped>\n",
              "    .dataframe tbody tr th:only-of-type {\n",
              "        vertical-align: middle;\n",
              "    }\n",
              "\n",
              "    .dataframe tbody tr th {\n",
              "        vertical-align: top;\n",
              "    }\n",
              "\n",
              "    .dataframe thead th {\n",
              "        text-align: right;\n",
              "    }\n",
              "</style>\n",
              "<table border=\"1\" class=\"dataframe\">\n",
              "  <thead>\n",
              "    <tr style=\"text-align: right;\">\n",
              "      <th></th>\n",
              "      <th>Age</th>\n",
              "      <th>Flight Distance</th>\n",
              "      <th>Departure Delay in Minutes</th>\n",
              "      <th>Arrival Delay in Minutes</th>\n",
              "      <th>Inflight wifi service</th>\n",
              "      <th>Departure/Arrival time convenient</th>\n",
              "      <th>Ease of Online booking</th>\n",
              "      <th>Gate location</th>\n",
              "      <th>Food and drink</th>\n",
              "      <th>Online boarding</th>\n",
              "      <th>Seat comfort</th>\n",
              "      <th>Inflight entertainment</th>\n",
              "      <th>On-board service</th>\n",
              "      <th>Leg room service</th>\n",
              "      <th>Baggage handling</th>\n",
              "      <th>Checkin service</th>\n",
              "      <th>Inflight service</th>\n",
              "      <th>Cleanliness</th>\n",
              "    </tr>\n",
              "  </thead>\n",
              "  <tbody>\n",
              "    <tr>\n",
              "      <th>0</th>\n",
              "      <td>0.485149</td>\n",
              "      <td>0.002163</td>\n",
              "      <td>0.00009</td>\n",
              "      <td>0.000357</td>\n",
              "      <td>0.6</td>\n",
              "      <td>0.6</td>\n",
              "      <td>0.6</td>\n",
              "      <td>0.6</td>\n",
              "      <td>1.0</td>\n",
              "      <td>0.6</td>\n",
              "      <td>1.0</td>\n",
              "      <td>1.0</td>\n",
              "      <td>0.6</td>\n",
              "      <td>0.4</td>\n",
              "      <td>1.0</td>\n",
              "      <td>0.8</td>\n",
              "      <td>1.0</td>\n",
              "      <td>1.0</td>\n",
              "    </tr>\n",
              "    <tr>\n",
              "      <th>1</th>\n",
              "      <td>0.356436</td>\n",
              "      <td>0.002163</td>\n",
              "      <td>0.00117</td>\n",
              "      <td>0.002785</td>\n",
              "      <td>0.4</td>\n",
              "      <td>0.4</td>\n",
              "      <td>0.4</td>\n",
              "      <td>0.4</td>\n",
              "      <td>0.6</td>\n",
              "      <td>1.0</td>\n",
              "      <td>0.8</td>\n",
              "      <td>1.0</td>\n",
              "      <td>1.0</td>\n",
              "      <td>1.0</td>\n",
              "      <td>1.0</td>\n",
              "      <td>0.6</td>\n",
              "      <td>1.0</td>\n",
              "      <td>1.0</td>\n",
              "    </tr>\n",
              "    <tr>\n",
              "      <th>2</th>\n",
              "      <td>0.415842</td>\n",
              "      <td>0.002247</td>\n",
              "      <td>0.00000</td>\n",
              "      <td>0.000000</td>\n",
              "      <td>0.8</td>\n",
              "      <td>0.8</td>\n",
              "      <td>0.8</td>\n",
              "      <td>0.8</td>\n",
              "      <td>1.0</td>\n",
              "      <td>1.0</td>\n",
              "      <td>1.0</td>\n",
              "      <td>0.6</td>\n",
              "      <td>0.6</td>\n",
              "      <td>0.6</td>\n",
              "      <td>0.6</td>\n",
              "      <td>0.8</td>\n",
              "      <td>0.6</td>\n",
              "      <td>1.0</td>\n",
              "    </tr>\n",
              "    <tr>\n",
              "      <th>3</th>\n",
              "      <td>0.504950</td>\n",
              "      <td>0.005018</td>\n",
              "      <td>0.00000</td>\n",
              "      <td>0.000000</td>\n",
              "      <td>0.4</td>\n",
              "      <td>0.4</td>\n",
              "      <td>0.4</td>\n",
              "      <td>0.4</td>\n",
              "      <td>0.8</td>\n",
              "      <td>0.8</td>\n",
              "      <td>1.0</td>\n",
              "      <td>1.0</td>\n",
              "      <td>1.0</td>\n",
              "      <td>1.0</td>\n",
              "      <td>1.0</td>\n",
              "      <td>0.6</td>\n",
              "      <td>1.0</td>\n",
              "      <td>0.8</td>\n",
              "    </tr>\n",
              "    <tr>\n",
              "      <th>4</th>\n",
              "      <td>0.495050</td>\n",
              "      <td>0.009141</td>\n",
              "      <td>0.00000</td>\n",
              "      <td>0.000071</td>\n",
              "      <td>0.6</td>\n",
              "      <td>0.6</td>\n",
              "      <td>0.6</td>\n",
              "      <td>0.6</td>\n",
              "      <td>0.8</td>\n",
              "      <td>1.0</td>\n",
              "      <td>0.8</td>\n",
              "      <td>0.6</td>\n",
              "      <td>0.6</td>\n",
              "      <td>0.8</td>\n",
              "      <td>0.6</td>\n",
              "      <td>0.6</td>\n",
              "      <td>0.6</td>\n",
              "      <td>1.0</td>\n",
              "    </tr>\n",
              "  </tbody>\n",
              "</table>\n",
              "</div>\n",
              "      <button class=\"colab-df-convert\" onclick=\"convertToInteractive('df-da4a71c3-ad38-4358-ae84-090dd5e3418d')\"\n",
              "              title=\"Convert this dataframe to an interactive table.\"\n",
              "              style=\"display:none;\">\n",
              "        \n",
              "  <svg xmlns=\"http://www.w3.org/2000/svg\" height=\"24px\"viewBox=\"0 0 24 24\"\n",
              "       width=\"24px\">\n",
              "    <path d=\"M0 0h24v24H0V0z\" fill=\"none\"/>\n",
              "    <path d=\"M18.56 5.44l.94 2.06.94-2.06 2.06-.94-2.06-.94-.94-2.06-.94 2.06-2.06.94zm-11 1L8.5 8.5l.94-2.06 2.06-.94-2.06-.94L8.5 2.5l-.94 2.06-2.06.94zm10 10l.94 2.06.94-2.06 2.06-.94-2.06-.94-.94-2.06-.94 2.06-2.06.94z\"/><path d=\"M17.41 7.96l-1.37-1.37c-.4-.4-.92-.59-1.43-.59-.52 0-1.04.2-1.43.59L10.3 9.45l-7.72 7.72c-.78.78-.78 2.05 0 2.83L4 21.41c.39.39.9.59 1.41.59.51 0 1.02-.2 1.41-.59l7.78-7.78 2.81-2.81c.8-.78.8-2.07 0-2.86zM5.41 20L4 18.59l7.72-7.72 1.47 1.35L5.41 20z\"/>\n",
              "  </svg>\n",
              "      </button>\n",
              "      \n",
              "  <style>\n",
              "    .colab-df-container {\n",
              "      display:flex;\n",
              "      flex-wrap:wrap;\n",
              "      gap: 12px;\n",
              "    }\n",
              "\n",
              "    .colab-df-convert {\n",
              "      background-color: #E8F0FE;\n",
              "      border: none;\n",
              "      border-radius: 50%;\n",
              "      cursor: pointer;\n",
              "      display: none;\n",
              "      fill: #1967D2;\n",
              "      height: 32px;\n",
              "      padding: 0 0 0 0;\n",
              "      width: 32px;\n",
              "    }\n",
              "\n",
              "    .colab-df-convert:hover {\n",
              "      background-color: #E2EBFA;\n",
              "      box-shadow: 0px 1px 2px rgba(60, 64, 67, 0.3), 0px 1px 3px 1px rgba(60, 64, 67, 0.15);\n",
              "      fill: #174EA6;\n",
              "    }\n",
              "\n",
              "    [theme=dark] .colab-df-convert {\n",
              "      background-color: #3B4455;\n",
              "      fill: #D2E3FC;\n",
              "    }\n",
              "\n",
              "    [theme=dark] .colab-df-convert:hover {\n",
              "      background-color: #434B5C;\n",
              "      box-shadow: 0px 1px 3px 1px rgba(0, 0, 0, 0.15);\n",
              "      filter: drop-shadow(0px 1px 2px rgba(0, 0, 0, 0.3));\n",
              "      fill: #FFFFFF;\n",
              "    }\n",
              "  </style>\n",
              "\n",
              "      <script>\n",
              "        const buttonEl =\n",
              "          document.querySelector('#df-da4a71c3-ad38-4358-ae84-090dd5e3418d button.colab-df-convert');\n",
              "        buttonEl.style.display =\n",
              "          google.colab.kernel.accessAllowed ? 'block' : 'none';\n",
              "\n",
              "        async function convertToInteractive(key) {\n",
              "          const element = document.querySelector('#df-da4a71c3-ad38-4358-ae84-090dd5e3418d');\n",
              "          const dataTable =\n",
              "            await google.colab.kernel.invokeFunction('convertToInteractive',\n",
              "                                                     [key], {});\n",
              "          if (!dataTable) return;\n",
              "\n",
              "          const docLinkHtml = 'Like what you see? Visit the ' +\n",
              "            '<a target=\"_blank\" href=https://colab.research.google.com/notebooks/data_table.ipynb>data table notebook</a>'\n",
              "            + ' to learn more about interactive tables.';\n",
              "          element.innerHTML = '';\n",
              "          dataTable['output_type'] = 'display_data';\n",
              "          await google.colab.output.renderOutput(dataTable, element);\n",
              "          const docLink = document.createElement('div');\n",
              "          docLink.innerHTML = docLinkHtml;\n",
              "          element.appendChild(docLink);\n",
              "        }\n",
              "      </script>\n",
              "    </div>\n",
              "  </div>\n",
              "  "
            ]
          },
          "metadata": {},
          "execution_count": 79
        }
      ]
    },
    {
      "cell_type": "markdown",
      "source": [
        "**Бинаризация целевого признака**"
      ],
      "metadata": {
        "id": "QLohqD2-N5nA"
      }
    },
    {
      "cell_type": "code",
      "source": [
        "df['satisfaction'].value_counts(dropna=False)"
      ],
      "metadata": {
        "colab": {
          "base_uri": "https://localhost:8080/"
        },
        "id": "O34zlDm12bnG",
        "outputId": "5c358b43-87c2-4846-f1cd-4b7738c2dd97"
      },
      "execution_count": 80,
      "outputs": [
        {
          "output_type": "execute_result",
          "data": {
            "text/plain": [
              "neutral or dissatisfied    58879\n",
              "satisfied                  45025\n",
              "-                          25976\n",
              "Name: satisfaction, dtype: int64"
            ]
          },
          "metadata": {},
          "execution_count": 80
        }
      ]
    },
    {
      "cell_type": "code",
      "source": [
        "df['Target'] = df['satisfaction'].map({'neutral or dissatisfied':0, 'satisfied':1, '-':2})"
      ],
      "metadata": {
        "id": "TIzOdDyow78Q"
      },
      "execution_count": 81,
      "outputs": []
    },
    {
      "cell_type": "code",
      "source": [
        "df['Target'].value_counts(dropna=False)"
      ],
      "metadata": {
        "colab": {
          "base_uri": "https://localhost:8080/"
        },
        "id": "bC354VkP3Nsc",
        "outputId": "65cc1908-44a8-438d-97aa-4b8b3db22586"
      },
      "execution_count": 82,
      "outputs": [
        {
          "output_type": "execute_result",
          "data": {
            "text/plain": [
              "0    58879\n",
              "1    45025\n",
              "2    25976\n",
              "Name: Target, dtype: int64"
            ]
          },
          "metadata": {},
          "execution_count": 82
        }
      ]
    },
    {
      "cell_type": "markdown",
      "source": [
        "Анализ зависимости целевого признака от свойства Customer Type"
      ],
      "metadata": {
        "id": "WkqiHSF1ORXf"
      }
    },
    {
      "cell_type": "code",
      "source": [
        "sb.barplot(x='Customer Type', y='Target', data = df, palette='summer')"
      ],
      "metadata": {
        "colab": {
          "base_uri": "https://localhost:8080/",
          "height": 466
        },
        "id": "dAVBQInQ3tHf",
        "outputId": "58eededa-d5dd-4540-86a8-7166ac28b9e4"
      },
      "execution_count": 83,
      "outputs": [
        {
          "output_type": "execute_result",
          "data": {
            "text/plain": [
              "<Axes: xlabel='Customer Type', ylabel='Target'>"
            ]
          },
          "metadata": {},
          "execution_count": 83
        },
        {
          "output_type": "display_data",
          "data": {
            "text/plain": [
              "<Figure size 640x480 with 1 Axes>"
            ],
            "image/png": "[encoded data removed]"
          },
          "metadata": {}
        }
      ]
    },
    {
      "cell_type": "markdown",
      "source": [
        "Большинство лояльных клиентов являются \"удовлетворёнными\". Примерно половина не лояльных клиентов являются \"удовлетворёнными\". В соответствии с этим распределим клиентов с неизвестным стойством \"удовлетворённость\":\n",
        "- всех неизвестных клиентов, которые являются лояльнвми отнесём к \"удовлетворённым\";\n",
        "- половину неизвестных клиентов, которые являются нелояльными отнесём к \"неудовлетворённым\";\n",
        "- вторую половину неизвестных клиентов, которые являются нелояльными отнесём к \"удовлетворённым."
      ],
      "metadata": {
        "id": "-7pB0pKIOqFx"
      }
    },
    {
      "cell_type": "code",
      "source": [
        "df['Target'] = np.where((df['Customer Type'] == 'Loyal Customer') & (df['Target'] == 2), 1, df['Target'])"
      ],
      "metadata": {
        "id": "j92hzzbi4Ntc"
      },
      "execution_count": 84,
      "outputs": []
    },
    {
      "cell_type": "code",
      "source": [
        "sType = 0\n",
        "for idx, r in df.iterrows():\n",
        "  if (r['Customer Type'] == 'disloyal Customer') and (r['Target'] == 2):\n",
        "    df.at[idx, 'Target'] = sType\n",
        "    sType = (sType + 1) % 2"
      ],
      "metadata": {
        "id": "4wnkwBfkR-CU"
      },
      "execution_count": 85,
      "outputs": []
    },
    {
      "cell_type": "code",
      "source": [
        "df['Target'] = np.where(df['Target'] == 2, 0, df['Target'])"
      ],
      "metadata": {
        "id": "4s0Gqx7VXyJm"
      },
      "execution_count": 86,
      "outputs": []
    },
    {
      "cell_type": "code",
      "source": [
        "df['Target'].value_counts()"
      ],
      "metadata": {
        "colab": {
          "base_uri": "https://localhost:8080/"
        },
        "id": "fM_3H7DrRy76",
        "outputId": "14886e4e-1cfb-4d4b-b736-164471d3fefa"
      },
      "execution_count": 87,
      "outputs": [
        {
          "output_type": "execute_result",
          "data": {
            "text/plain": [
              "1    68591\n",
              "0    61289\n",
              "Name: Target, dtype: int64"
            ]
          },
          "metadata": {},
          "execution_count": 87
        }
      ]
    },
    {
      "cell_type": "markdown",
      "source": [
        "Признак Customer Type удалим из набора данных, так как он использовался для предварительной разметки."
      ],
      "metadata": {
        "id": "sskuBni7YEXR"
      }
    },
    {
      "cell_type": "code",
      "source": [
        "df_ctgr.drop(columns=['Customer Type'], inplace=True)"
      ],
      "metadata": {
        "colab": {
          "base_uri": "https://localhost:8080/"
        },
        "id": "AWg08NvjYYlk",
        "outputId": "cb4fb4cb-9bc8-43cd-a8ae-50f296a36582"
      },
      "execution_count": 88,
      "outputs": [
        {
          "output_type": "stream",
          "name": "stderr",
          "text": [
            "<ipython-input-88-8692c0653155>:1: SettingWithCopyWarning: \n",
            "A value is trying to be set on a copy of a slice from a DataFrame\n",
            "\n",
            "See the caveats in the documentation: https://pandas.pydata.org/pandas-docs/stable/user_guide/indexing.html#returning-a-view-versus-a-copy\n",
            "  df_ctgr.drop(columns=['Customer Type'], inplace=True)\n"
          ]
        }
      ]
    },
    {
      "cell_type": "markdown",
      "source": [
        "**ОБРАБОТКА ПРИЗНАКОВ КАТЕГОРИАЛЬНОЙ ЧАСТИ НАБОРА ДАННЫХ**"
      ],
      "metadata": {
        "id": "unKITDC6ZNqu"
      }
    },
    {
      "cell_type": "code",
      "source": [
        "df_ctgr.info()"
      ],
      "metadata": {
        "colab": {
          "base_uri": "https://localhost:8080/"
        },
        "id": "e5Z4TWVfbzSE",
        "outputId": "744c388c-82dc-4be3-b25f-1b27c1bf145a"
      },
      "execution_count": 90,
      "outputs": [
        {
          "output_type": "stream",
          "name": "stdout",
          "text": [
            "<class 'pandas.core.frame.DataFrame'>\n",
            "RangeIndex: 129880 entries, 0 to 129879\n",
            "Data columns (total 3 columns):\n",
            " #   Column          Non-Null Count   Dtype \n",
            "---  ------          --------------   ----- \n",
            " 0   Gender          129549 non-null  object\n",
            " 1   Type of Travel  129779 non-null  object\n",
            " 2   Class           129764 non-null  object\n",
            "dtypes: object(3)\n",
            "memory usage: 3.0+ MB\n"
          ]
        }
      ]
    },
    {
      "cell_type": "code",
      "source": [
        "df_ctgr['Gender'].value_counts(dropna=False)"
      ],
      "metadata": {
        "colab": {
          "base_uri": "https://localhost:8080/"
        },
        "id": "--YHurUMb53F",
        "outputId": "744f90f2-ca1d-4e96-853a-1273528de2ac"
      },
      "execution_count": 91,
      "outputs": [
        {
          "output_type": "execute_result",
          "data": {
            "text/plain": [
              "Female    65726\n",
              "Male      63823\n",
              "NaN         331\n",
              "Name: Gender, dtype: int64"
            ]
          },
          "metadata": {},
          "execution_count": 91
        }
      ]
    },
    {
      "cell_type": "code",
      "source": [
        "df_ctgr['Gender'].fillna('noData', inplace=True)"
      ],
      "metadata": {
        "colab": {
          "base_uri": "https://localhost:8080/"
        },
        "id": "V5ZjQ9BGcNpI",
        "outputId": "10de50ec-dd55-4b5e-aec2-2a663c2e40a5"
      },
      "execution_count": 92,
      "outputs": [
        {
          "output_type": "stream",
          "name": "stderr",
          "text": [
            "<ipython-input-92-91acf827c340>:1: SettingWithCopyWarning: \n",
            "A value is trying to be set on a copy of a slice from a DataFrame\n",
            "\n",
            "See the caveats in the documentation: https://pandas.pydata.org/pandas-docs/stable/user_guide/indexing.html#returning-a-view-versus-a-copy\n",
            "  df_ctgr['Gender'].fillna('noData', inplace=True)\n"
          ]
        }
      ]
    },
    {
      "cell_type": "code",
      "source": [
        "df_ctgr['Type of Travel'].value_counts(dropna=False)"
      ],
      "metadata": {
        "colab": {
          "base_uri": "https://localhost:8080/"
        },
        "id": "vK8fVTHmcr4Z",
        "outputId": "63d48b6a-31e8-4c8f-a480-066d9ef3d9cc"
      },
      "execution_count": 93,
      "outputs": [
        {
          "output_type": "execute_result",
          "data": {
            "text/plain": [
              "Business travel    89625\n",
              "Personal Travel    40154\n",
              "NaN                  101\n",
              "Name: Type of Travel, dtype: int64"
            ]
          },
          "metadata": {},
          "execution_count": 93
        }
      ]
    },
    {
      "cell_type": "code",
      "source": [
        "df_ctgr['Type of Travel'].fillna('noTravelType', inplace=True)"
      ],
      "metadata": {
        "colab": {
          "base_uri": "https://localhost:8080/"
        },
        "id": "tluxxp3jc_xe",
        "outputId": "59e32015-db0d-42ec-9b14-e2ad1b68ef8b"
      },
      "execution_count": 94,
      "outputs": [
        {
          "output_type": "stream",
          "name": "stderr",
          "text": [
            "<ipython-input-94-4f2c846fe578>:1: SettingWithCopyWarning: \n",
            "A value is trying to be set on a copy of a slice from a DataFrame\n",
            "\n",
            "See the caveats in the documentation: https://pandas.pydata.org/pandas-docs/stable/user_guide/indexing.html#returning-a-view-versus-a-copy\n",
            "  df_ctgr['Type of Travel'].fillna('noTravelType', inplace=True)\n"
          ]
        }
      ]
    },
    {
      "cell_type": "code",
      "source": [
        "df_ctgr['Class'].value_counts(dropna=False)"
      ],
      "metadata": {
        "colab": {
          "base_uri": "https://localhost:8080/"
        },
        "id": "Tidtf1-8dN3C",
        "outputId": "910b7633-2f28-40fd-c0fd-9a27a998a80a"
      },
      "execution_count": 95,
      "outputs": [
        {
          "output_type": "execute_result",
          "data": {
            "text/plain": [
              "Business    62103\n",
              "Eco         58264\n",
              "Eco Plus     9397\n",
              "NaN           116\n",
              "Name: Class, dtype: int64"
            ]
          },
          "metadata": {},
          "execution_count": 95
        }
      ]
    },
    {
      "cell_type": "code",
      "source": [
        "df_ctgr['Class'].fillna('noClass', inplace=True)"
      ],
      "metadata": {
        "colab": {
          "base_uri": "https://localhost:8080/"
        },
        "id": "VSPevHsAdWql",
        "outputId": "46b95d17-9042-4e9c-8492-4c75d77b4ab4"
      },
      "execution_count": 96,
      "outputs": [
        {
          "output_type": "stream",
          "name": "stderr",
          "text": [
            "<ipython-input-96-bc3315db4d40>:1: SettingWithCopyWarning: \n",
            "A value is trying to be set on a copy of a slice from a DataFrame\n",
            "\n",
            "See the caveats in the documentation: https://pandas.pydata.org/pandas-docs/stable/user_guide/indexing.html#returning-a-view-versus-a-copy\n",
            "  df_ctgr['Class'].fillna('noClass', inplace=True)\n"
          ]
        }
      ]
    },
    {
      "cell_type": "markdown",
      "source": [
        "Разделение категориальных признаков"
      ],
      "metadata": {
        "id": "_-wKB_M2dnNN"
      }
    },
    {
      "cell_type": "code",
      "source": [
        "colNames = df_ctgr.columns"
      ],
      "metadata": {
        "id": "clZ5vnTvdyld"
      },
      "execution_count": 97,
      "outputs": []
    },
    {
      "cell_type": "code",
      "source": [
        "df_ctgr_fin = pd.get_dummies(df_ctgr, columns=colNames, prefix=colNames)\n",
        "df_ctgr_fin.head()"
      ],
      "metadata": {
        "colab": {
          "base_uri": "https://localhost:8080/",
          "height": 268
        },
        "id": "YQdgG8P3d59z",
        "outputId": "4c001a6c-533a-4097-fa55-0d4e28c91645"
      },
      "execution_count": 98,
      "outputs": [
        {
          "output_type": "execute_result",
          "data": {
            "text/plain": [
              "   Gender_Female  Gender_Male  Gender_noData  Type of Travel_Business travel  \\\n",
              "0              0            1              0                               1   \n",
              "1              1            0              0                               1   \n",
              "2              0            1              0                               1   \n",
              "3              0            1              0                               1   \n",
              "4              1            0              0                               1   \n",
              "\n",
              "   Type of Travel_Personal Travel  Type of Travel_noTravelType  \\\n",
              "0                               0                            0   \n",
              "1                               0                            0   \n",
              "2                               0                            0   \n",
              "3                               0                            0   \n",
              "4                               0                            0   \n",
              "\n",
              "   Class_Business  Class_Eco  Class_Eco Plus  Class_noClass  \n",
              "0               1          0               0              0  \n",
              "1               1          0               0              0  \n",
              "2               1          0               0              0  \n",
              "3               1          0               0              0  \n",
              "4               1          0               0              0  "
            ],
            "text/html": [
              "\n",
              "  <div id=\"df-282d5b5c-1503-4a74-a0e8-79df5ab3ad3d\">\n",
              "    <div class=\"colab-df-container\">\n",
              "      <div>\n",
              "<style scoped>\n",
              "    .dataframe tbody tr th:only-of-type {\n",
              "        vertical-align: middle;\n",
              "    }\n",
              "\n",
              "    .dataframe tbody tr th {\n",
              "        vertical-align: top;\n",
              "    }\n",
              "\n",
              "    .dataframe thead th {\n",
              "        text-align: right;\n",
              "    }\n",
              "</style>\n",
              "<table border=\"1\" class=\"dataframe\">\n",
              "  <thead>\n",
              "    <tr style=\"text-align: right;\">\n",
              "      <th></th>\n",
              "      <th>Gender_Female</th>\n",
              "      <th>Gender_Male</th>\n",
              "      <th>Gender_noData</th>\n",
              "      <th>Type of Travel_Business travel</th>\n",
              "      <th>Type of Travel_Personal Travel</th>\n",
              "      <th>Type of Travel_noTravelType</th>\n",
              "      <th>Class_Business</th>\n",
              "      <th>Class_Eco</th>\n",
              "      <th>Class_Eco Plus</th>\n",
              "      <th>Class_noClass</th>\n",
              "    </tr>\n",
              "  </thead>\n",
              "  <tbody>\n",
              "    <tr>\n",
              "      <th>0</th>\n",
              "      <td>0</td>\n",
              "      <td>1</td>\n",
              "      <td>0</td>\n",
              "      <td>1</td>\n",
              "      <td>0</td>\n",
              "      <td>0</td>\n",
              "      <td>1</td>\n",
              "      <td>0</td>\n",
              "      <td>0</td>\n",
              "      <td>0</td>\n",
              "    </tr>\n",
              "    <tr>\n",
              "      <th>1</th>\n",
              "      <td>1</td>\n",
              "      <td>0</td>\n",
              "      <td>0</td>\n",
              "      <td>1</td>\n",
              "      <td>0</td>\n",
              "      <td>0</td>\n",
              "      <td>1</td>\n",
              "      <td>0</td>\n",
              "      <td>0</td>\n",
              "      <td>0</td>\n",
              "    </tr>\n",
              "    <tr>\n",
              "      <th>2</th>\n",
              "      <td>0</td>\n",
              "      <td>1</td>\n",
              "      <td>0</td>\n",
              "      <td>1</td>\n",
              "      <td>0</td>\n",
              "      <td>0</td>\n",
              "      <td>1</td>\n",
              "      <td>0</td>\n",
              "      <td>0</td>\n",
              "      <td>0</td>\n",
              "    </tr>\n",
              "    <tr>\n",
              "      <th>3</th>\n",
              "      <td>0</td>\n",
              "      <td>1</td>\n",
              "      <td>0</td>\n",
              "      <td>1</td>\n",
              "      <td>0</td>\n",
              "      <td>0</td>\n",
              "      <td>1</td>\n",
              "      <td>0</td>\n",
              "      <td>0</td>\n",
              "      <td>0</td>\n",
              "    </tr>\n",
              "    <tr>\n",
              "      <th>4</th>\n",
              "      <td>1</td>\n",
              "      <td>0</td>\n",
              "      <td>0</td>\n",
              "      <td>1</td>\n",
              "      <td>0</td>\n",
              "      <td>0</td>\n",
              "      <td>1</td>\n",
              "      <td>0</td>\n",
              "      <td>0</td>\n",
              "      <td>0</td>\n",
              "    </tr>\n",
              "  </tbody>\n",
              "</table>\n",
              "</div>\n",
              "      <button class=\"colab-df-convert\" onclick=\"convertToInteractive('df-282d5b5c-1503-4a74-a0e8-79df5ab3ad3d')\"\n",
              "              title=\"Convert this dataframe to an interactive table.\"\n",
              "              style=\"display:none;\">\n",
              "        \n",
              "  <svg xmlns=\"http://www.w3.org/2000/svg\" height=\"24px\"viewBox=\"0 0 24 24\"\n",
              "       width=\"24px\">\n",
              "    <path d=\"M0 0h24v24H0V0z\" fill=\"none\"/>\n",
              "    <path d=\"M18.56 5.44l.94 2.06.94-2.06 2.06-.94-2.06-.94-.94-2.06-.94 2.06-2.06.94zm-11 1L8.5 8.5l.94-2.06 2.06-.94-2.06-.94L8.5 2.5l-.94 2.06-2.06.94zm10 10l.94 2.06.94-2.06 2.06-.94-2.06-.94-.94-2.06-.94 2.06-2.06.94z\"/><path d=\"M17.41 7.96l-1.37-1.37c-.4-.4-.92-.59-1.43-.59-.52 0-1.04.2-1.43.59L10.3 9.45l-7.72 7.72c-.78.78-.78 2.05 0 2.83L4 21.41c.39.39.9.59 1.41.59.51 0 1.02-.2 1.41-.59l7.78-7.78 2.81-2.81c.8-.78.8-2.07 0-2.86zM5.41 20L4 18.59l7.72-7.72 1.47 1.35L5.41 20z\"/>\n",
              "  </svg>\n",
              "      </button>\n",
              "      \n",
              "  <style>\n",
              "    .colab-df-container {\n",
              "      display:flex;\n",
              "      flex-wrap:wrap;\n",
              "      gap: 12px;\n",
              "    }\n",
              "\n",
              "    .colab-df-convert {\n",
              "      background-color: #E8F0FE;\n",
              "      border: none;\n",
              "      border-radius: 50%;\n",
              "      cursor: pointer;\n",
              "      display: none;\n",
              "      fill: #1967D2;\n",
              "      height: 32px;\n",
              "      padding: 0 0 0 0;\n",
              "      width: 32px;\n",
              "    }\n",
              "\n",
              "    .colab-df-convert:hover {\n",
              "      background-color: #E2EBFA;\n",
              "      box-shadow: 0px 1px 2px rgba(60, 64, 67, 0.3), 0px 1px 3px 1px rgba(60, 64, 67, 0.15);\n",
              "      fill: #174EA6;\n",
              "    }\n",
              "\n",
              "    [theme=dark] .colab-df-convert {\n",
              "      background-color: #3B4455;\n",
              "      fill: #D2E3FC;\n",
              "    }\n",
              "\n",
              "    [theme=dark] .colab-df-convert:hover {\n",
              "      background-color: #434B5C;\n",
              "      box-shadow: 0px 1px 3px 1px rgba(0, 0, 0, 0.15);\n",
              "      filter: drop-shadow(0px 1px 2px rgba(0, 0, 0, 0.3));\n",
              "      fill: #FFFFFF;\n",
              "    }\n",
              "  </style>\n",
              "\n",
              "      <script>\n",
              "        const buttonEl =\n",
              "          document.querySelector('#df-282d5b5c-1503-4a74-a0e8-79df5ab3ad3d button.colab-df-convert');\n",
              "        buttonEl.style.display =\n",
              "          google.colab.kernel.accessAllowed ? 'block' : 'none';\n",
              "\n",
              "        async function convertToInteractive(key) {\n",
              "          const element = document.querySelector('#df-282d5b5c-1503-4a74-a0e8-79df5ab3ad3d');\n",
              "          const dataTable =\n",
              "            await google.colab.kernel.invokeFunction('convertToInteractive',\n",
              "                                                     [key], {});\n",
              "          if (!dataTable) return;\n",
              "\n",
              "          const docLinkHtml = 'Like what you see? Visit the ' +\n",
              "            '<a target=\"_blank\" href=https://colab.research.google.com/notebooks/data_table.ipynb>data table notebook</a>'\n",
              "            + ' to learn more about interactive tables.';\n",
              "          element.innerHTML = '';\n",
              "          dataTable['output_type'] = 'display_data';\n",
              "          await google.colab.output.renderOutput(dataTable, element);\n",
              "          const docLink = document.createElement('div');\n",
              "          docLink.innerHTML = docLinkHtml;\n",
              "          element.appendChild(docLink);\n",
              "        }\n",
              "      </script>\n",
              "    </div>\n",
              "  </div>\n",
              "  "
            ]
          },
          "metadata": {},
          "execution_count": 98
        }
      ]
    },
    {
      "cell_type": "markdown",
      "source": [
        "Объединение категориальной и числовой частей"
      ],
      "metadata": {
        "id": "3yL8CjcJeODt"
      }
    },
    {
      "cell_type": "code",
      "source": [
        "df_fin = df_num_scale.join(df_ctgr_fin,how='inner')"
      ],
      "metadata": {
        "id": "eNYkGt2VeVio"
      },
      "execution_count": 99,
      "outputs": []
    },
    {
      "cell_type": "code",
      "source": [
        "df_fin.head()"
      ],
      "metadata": {
        "colab": {
          "base_uri": "https://localhost:8080/",
          "height": 352
        },
        "id": "GIsj-xw3e6_t",
        "outputId": "245cb2e1-2cd1-4bbe-96f7-5364b5fc7592"
      },
      "execution_count": 100,
      "outputs": [
        {
          "output_type": "execute_result",
          "data": {
            "text/plain": [
              "        Age  Flight Distance  Departure Delay in Minutes  \\\n",
              "0  0.485149         0.002163                     0.00009   \n",
              "1  0.356436         0.002163                     0.00117   \n",
              "2  0.415842         0.002247                     0.00000   \n",
              "3  0.504950         0.005018                     0.00000   \n",
              "4  0.495050         0.009141                     0.00000   \n",
              "\n",
              "   Arrival Delay in Minutes  Inflight wifi service  \\\n",
              "0                  0.000357                    0.6   \n",
              "1                  0.002785                    0.4   \n",
              "2                  0.000000                    0.8   \n",
              "3                  0.000000                    0.4   \n",
              "4                  0.000071                    0.6   \n",
              "\n",
              "   Departure/Arrival time convenient  Ease of Online booking  Gate location  \\\n",
              "0                                0.6                     0.6            0.6   \n",
              "1                                0.4                     0.4            0.4   \n",
              "2                                0.8                     0.8            0.8   \n",
              "3                                0.4                     0.4            0.4   \n",
              "4                                0.6                     0.6            0.6   \n",
              "\n",
              "   Food and drink  Online boarding  ...  Gender_Female  Gender_Male  \\\n",
              "0             1.0              0.6  ...              0            1   \n",
              "1             0.6              1.0  ...              1            0   \n",
              "2             1.0              1.0  ...              0            1   \n",
              "3             0.8              0.8  ...              0            1   \n",
              "4             0.8              1.0  ...              1            0   \n",
              "\n",
              "   Gender_noData  Type of Travel_Business travel  \\\n",
              "0              0                               1   \n",
              "1              0                               1   \n",
              "2              0                               1   \n",
              "3              0                               1   \n",
              "4              0                               1   \n",
              "\n",
              "   Type of Travel_Personal Travel  Type of Travel_noTravelType  \\\n",
              "0                               0                            0   \n",
              "1                               0                            0   \n",
              "2                               0                            0   \n",
              "3                               0                            0   \n",
              "4                               0                            0   \n",
              "\n",
              "   Class_Business  Class_Eco  Class_Eco Plus  Class_noClass  \n",
              "0               1          0               0              0  \n",
              "1               1          0               0              0  \n",
              "2               1          0               0              0  \n",
              "3               1          0               0              0  \n",
              "4               1          0               0              0  \n",
              "\n",
              "[5 rows x 28 columns]"
            ],
            "text/html": [
              "\n",
              "  <div id=\"df-34d8794b-045c-4e2b-97f6-71c989f00d90\">\n",
              "    <div class=\"colab-df-container\">\n",
              "      <div>\n",
              "<style scoped>\n",
              "    .dataframe tbody tr th:only-of-type {\n",
              "        vertical-align: middle;\n",
              "    }\n",
              "\n",
              "    .dataframe tbody tr th {\n",
              "        vertical-align: top;\n",
              "    }\n",
              "\n",
              "    .dataframe thead th {\n",
              "        text-align: right;\n",
              "    }\n",
              "</style>\n",
              "<table border=\"1\" class=\"dataframe\">\n",
              "  <thead>\n",
              "    <tr style=\"text-align: right;\">\n",
              "      <th></th>\n",
              "      <th>Age</th>\n",
              "      <th>Flight Distance</th>\n",
              "      <th>Departure Delay in Minutes</th>\n",
              "      <th>Arrival Delay in Minutes</th>\n",
              "      <th>Inflight wifi service</th>\n",
              "      <th>Departure/Arrival time convenient</th>\n",
              "      <th>Ease of Online booking</th>\n",
              "      <th>Gate location</th>\n",
              "      <th>Food and drink</th>\n",
              "      <th>Online boarding</th>\n",
              "      <th>...</th>\n",
              "      <th>Gender_Female</th>\n",
              "      <th>Gender_Male</th>\n",
              "      <th>Gender_noData</th>\n",
              "      <th>Type of Travel_Business travel</th>\n",
              "      <th>Type of Travel_Personal Travel</th>\n",
              "      <th>Type of Travel_noTravelType</th>\n",
              "      <th>Class_Business</th>\n",
              "      <th>Class_Eco</th>\n",
              "      <th>Class_Eco Plus</th>\n",
              "      <th>Class_noClass</th>\n",
              "    </tr>\n",
              "  </thead>\n",
              "  <tbody>\n",
              "    <tr>\n",
              "      <th>0</th>\n",
              "      <td>0.485149</td>\n",
              "      <td>0.002163</td>\n",
              "      <td>0.00009</td>\n",
              "      <td>0.000357</td>\n",
              "      <td>0.6</td>\n",
              "      <td>0.6</td>\n",
              "      <td>0.6</td>\n",
              "      <td>0.6</td>\n",
              "      <td>1.0</td>\n",
              "      <td>0.6</td>\n",
              "      <td>...</td>\n",
              "      <td>0</td>\n",
              "      <td>1</td>\n",
              "      <td>0</td>\n",
              "      <td>1</td>\n",
              "      <td>0</td>\n",
              "      <td>0</td>\n",
              "      <td>1</td>\n",
              "      <td>0</td>\n",
              "      <td>0</td>\n",
              "      <td>0</td>\n",
              "    </tr>\n",
              "    <tr>\n",
              "      <th>1</th>\n",
              "      <td>0.356436</td>\n",
              "      <td>0.002163</td>\n",
              "      <td>0.00117</td>\n",
              "      <td>0.002785</td>\n",
              "      <td>0.4</td>\n",
              "      <td>0.4</td>\n",
              "      <td>0.4</td>\n",
              "      <td>0.4</td>\n",
              "      <td>0.6</td>\n",
              "      <td>1.0</td>\n",
              "      <td>...</td>\n",
              "      <td>1</td>\n",
              "      <td>0</td>\n",
              "      <td>0</td>\n",
              "      <td>1</td>\n",
              "      <td>0</td>\n",
              "      <td>0</td>\n",
              "      <td>1</td>\n",
              "      <td>0</td>\n",
              "      <td>0</td>\n",
              "      <td>0</td>\n",
              "    </tr>\n",
              "    <tr>\n",
              "      <th>2</th>\n",
              "      <td>0.415842</td>\n",
              "      <td>0.002247</td>\n",
              "      <td>0.00000</td>\n",
              "      <td>0.000000</td>\n",
              "      <td>0.8</td>\n",
              "      <td>0.8</td>\n",
              "      <td>0.8</td>\n",
              "      <td>0.8</td>\n",
              "      <td>1.0</td>\n",
              "      <td>1.0</td>\n",
              "      <td>...</td>\n",
              "      <td>0</td>\n",
              "      <td>1</td>\n",
              "      <td>0</td>\n",
              "      <td>1</td>\n",
              "      <td>0</td>\n",
              "      <td>0</td>\n",
              "      <td>1</td>\n",
              "      <td>0</td>\n",
              "      <td>0</td>\n",
              "      <td>0</td>\n",
              "    </tr>\n",
              "    <tr>\n",
              "      <th>3</th>\n",
              "      <td>0.504950</td>\n",
              "      <td>0.005018</td>\n",
              "      <td>0.00000</td>\n",
              "      <td>0.000000</td>\n",
              "      <td>0.4</td>\n",
              "      <td>0.4</td>\n",
              "      <td>0.4</td>\n",
              "      <td>0.4</td>\n",
              "      <td>0.8</td>\n",
              "      <td>0.8</td>\n",
              "      <td>...</td>\n",
              "      <td>0</td>\n",
              "      <td>1</td>\n",
              "      <td>0</td>\n",
              "      <td>1</td>\n",
              "      <td>0</td>\n",
              "      <td>0</td>\n",
              "      <td>1</td>\n",
              "      <td>0</td>\n",
              "      <td>0</td>\n",
              "      <td>0</td>\n",
              "    </tr>\n",
              "    <tr>\n",
              "      <th>4</th>\n",
              "      <td>0.495050</td>\n",
              "      <td>0.009141</td>\n",
              "      <td>0.00000</td>\n",
              "      <td>0.000071</td>\n",
              "      <td>0.6</td>\n",
              "      <td>0.6</td>\n",
              "      <td>0.6</td>\n",
              "      <td>0.6</td>\n",
              "      <td>0.8</td>\n",
              "      <td>1.0</td>\n",
              "      <td>...</td>\n",
              "      <td>1</td>\n",
              "      <td>0</td>\n",
              "      <td>0</td>\n",
              "      <td>1</td>\n",
              "      <td>0</td>\n",
              "      <td>0</td>\n",
              "      <td>1</td>\n",
              "      <td>0</td>\n",
              "      <td>0</td>\n",
              "      <td>0</td>\n",
              "    </tr>\n",
              "  </tbody>\n",
              "</table>\n",
              "<p>5 rows × 28 columns</p>\n",
              "</div>\n",
              "      <button class=\"colab-df-convert\" onclick=\"convertToInteractive('df-34d8794b-045c-4e2b-97f6-71c989f00d90')\"\n",
              "              title=\"Convert this dataframe to an interactive table.\"\n",
              "              style=\"display:none;\">\n",
              "        \n",
              "  <svg xmlns=\"http://www.w3.org/2000/svg\" height=\"24px\"viewBox=\"0 0 24 24\"\n",
              "       width=\"24px\">\n",
              "    <path d=\"M0 0h24v24H0V0z\" fill=\"none\"/>\n",
              "    <path d=\"M18.56 5.44l.94 2.06.94-2.06 2.06-.94-2.06-.94-.94-2.06-.94 2.06-2.06.94zm-11 1L8.5 8.5l.94-2.06 2.06-.94-2.06-.94L8.5 2.5l-.94 2.06-2.06.94zm10 10l.94 2.06.94-2.06 2.06-.94-2.06-.94-.94-2.06-.94 2.06-2.06.94z\"/><path d=\"M17.41 7.96l-1.37-1.37c-.4-.4-.92-.59-1.43-.59-.52 0-1.04.2-1.43.59L10.3 9.45l-7.72 7.72c-.78.78-.78 2.05 0 2.83L4 21.41c.39.39.9.59 1.41.59.51 0 1.02-.2 1.41-.59l7.78-7.78 2.81-2.81c.8-.78.8-2.07 0-2.86zM5.41 20L4 18.59l7.72-7.72 1.47 1.35L5.41 20z\"/>\n",
              "  </svg>\n",
              "      </button>\n",
              "      \n",
              "  <style>\n",
              "    .colab-df-container {\n",
              "      display:flex;\n",
              "      flex-wrap:wrap;\n",
              "      gap: 12px;\n",
              "    }\n",
              "\n",
              "    .colab-df-convert {\n",
              "      background-color: #E8F0FE;\n",
              "      border: none;\n",
              "      border-radius: 50%;\n",
              "      cursor: pointer;\n",
              "      display: none;\n",
              "      fill: #1967D2;\n",
              "      height: 32px;\n",
              "      padding: 0 0 0 0;\n",
              "      width: 32px;\n",
              "    }\n",
              "\n",
              "    .colab-df-convert:hover {\n",
              "      background-color: #E2EBFA;\n",
              "      box-shadow: 0px 1px 2px rgba(60, 64, 67, 0.3), 0px 1px 3px 1px rgba(60, 64, 67, 0.15);\n",
              "      fill: #174EA6;\n",
              "    }\n",
              "\n",
              "    [theme=dark] .colab-df-convert {\n",
              "      background-color: #3B4455;\n",
              "      fill: #D2E3FC;\n",
              "    }\n",
              "\n",
              "    [theme=dark] .colab-df-convert:hover {\n",
              "      background-color: #434B5C;\n",
              "      box-shadow: 0px 1px 3px 1px rgba(0, 0, 0, 0.15);\n",
              "      filter: drop-shadow(0px 1px 2px rgba(0, 0, 0, 0.3));\n",
              "      fill: #FFFFFF;\n",
              "    }\n",
              "  </style>\n",
              "\n",
              "      <script>\n",
              "        const buttonEl =\n",
              "          document.querySelector('#df-34d8794b-045c-4e2b-97f6-71c989f00d90 button.colab-df-convert');\n",
              "        buttonEl.style.display =\n",
              "          google.colab.kernel.accessAllowed ? 'block' : 'none';\n",
              "\n",
              "        async function convertToInteractive(key) {\n",
              "          const element = document.querySelector('#df-34d8794b-045c-4e2b-97f6-71c989f00d90');\n",
              "          const dataTable =\n",
              "            await google.colab.kernel.invokeFunction('convertToInteractive',\n",
              "                                                     [key], {});\n",
              "          if (!dataTable) return;\n",
              "\n",
              "          const docLinkHtml = 'Like what you see? Visit the ' +\n",
              "            '<a target=\"_blank\" href=https://colab.research.google.com/notebooks/data_table.ipynb>data table notebook</a>'\n",
              "            + ' to learn more about interactive tables.';\n",
              "          element.innerHTML = '';\n",
              "          dataTable['output_type'] = 'display_data';\n",
              "          await google.colab.output.renderOutput(dataTable, element);\n",
              "          const docLink = document.createElement('div');\n",
              "          docLink.innerHTML = docLinkHtml;\n",
              "          element.appendChild(docLink);\n",
              "        }\n",
              "      </script>\n",
              "    </div>\n",
              "  </div>\n",
              "  "
            ]
          },
          "metadata": {},
          "execution_count": 100
        }
      ]
    },
    {
      "cell_type": "markdown",
      "source": [
        "**ОБУЧЕНИЕ МОДЕЛИ**"
      ],
      "metadata": {
        "id": "5DLA-M6VfD71"
      }
    },
    {
      "cell_type": "code",
      "source": [
        "y = df['Target']"
      ],
      "metadata": {
        "id": "lLGOQ39t9ob_"
      },
      "execution_count": 102,
      "outputs": []
    },
    {
      "cell_type": "code",
      "source": [
        "from sklearn.model_selection import train_test_split\n",
        "\n",
        "X_train, X_test, y_train, y_test = train_test_split(df_fin, y, test_size=0.25, random_state=123)\n",
        "\n",
        "X_train.shape, X_test.shape"
      ],
      "metadata": {
        "colab": {
          "base_uri": "https://localhost:8080/"
        },
        "id": "rVAlrXq5-AJW",
        "outputId": "81c0494a-7321-48f6-e139-14b5eb1cf56c"
      },
      "execution_count": 103,
      "outputs": [
        {
          "output_type": "execute_result",
          "data": {
            "text/plain": [
              "((97410, 28), (32470, 28))"
            ]
          },
          "metadata": {},
          "execution_count": 103
        }
      ]
    },
    {
      "cell_type": "code",
      "source": [
        "from sklearn.linear_model import LogisticRegression\n",
        "\n",
        "model = LogisticRegression(max_iter=10000)\n",
        "\n",
        "model.fit(X_train, y_train)\n",
        "\n",
        "pred = model.predict(X_test)"
      ],
      "metadata": {
        "id": "CUCS0jSz-Tna"
      },
      "execution_count": 104,
      "outputs": []
    },
    {
      "cell_type": "markdown",
      "source": [
        "Проверка качества модели"
      ],
      "metadata": {
        "id": "aLkgLMos89kl"
      }
    },
    {
      "cell_type": "code",
      "source": [
        "from sklearn.metrics import confusion_matrix\n",
        "\n",
        "confusion_matrix(y_test, pred)"
      ],
      "metadata": {
        "colab": {
          "base_uri": "https://localhost:8080/"
        },
        "id": "xbWfXLzEAV7q",
        "outputId": "ed01835d-896f-4a8e-80c0-22585ccf08ee"
      },
      "execution_count": 105,
      "outputs": [
        {
          "output_type": "execute_result",
          "data": {
            "text/plain": [
              "array([[11738,  3467],\n",
              "       [ 4258, 13007]])"
            ]
          },
          "metadata": {},
          "execution_count": 105
        }
      ]
    },
    {
      "cell_type": "code",
      "source": [
        "from sklearn.metrics import recall_score\n",
        "\n",
        "recall_score(y_test, pred)"
      ],
      "metadata": {
        "colab": {
          "base_uri": "https://localhost:8080/"
        },
        "id": "Caef2vMIB8Qv",
        "outputId": "330a46a9-7688-4127-88d5-9736fa9219e9"
      },
      "execution_count": 106,
      "outputs": [
        {
          "output_type": "execute_result",
          "data": {
            "text/plain": [
              "0.7533738777874313"
            ]
          },
          "metadata": {},
          "execution_count": 106
        }
      ]
    },
    {
      "cell_type": "code",
      "source": [
        "from sklearn.metrics import precision_score\n",
        "\n",
        "precision_score(y_test, pred)"
      ],
      "metadata": {
        "colab": {
          "base_uri": "https://localhost:8080/"
        },
        "id": "jqTfJa-eCGA_",
        "outputId": "2b1175da-5a95-4145-9d1a-d0ba7498fce4"
      },
      "execution_count": 107,
      "outputs": [
        {
          "output_type": "execute_result",
          "data": {
            "text/plain": [
              "0.7895471652300595"
            ]
          },
          "metadata": {},
          "execution_count": 107
        }
      ]
    },
    {
      "cell_type": "markdown",
      "source": [
        "Попытка увеличить количество \"предсказанных\" недовольных клиентов"
      ],
      "metadata": {
        "id": "N61HaX1D-cMB"
      }
    },
    {
      "cell_type": "code",
      "source": [
        "probs = model.predict_proba(X_test)"
      ],
      "metadata": {
        "id": "daihjl8lD4-9"
      },
      "execution_count": 108,
      "outputs": []
    },
    {
      "cell_type": "code",
      "source": [
        "classes = probs[:,1] > 0.4\n",
        "\n",
        "confusion_matrix(y_test, classes), recall_score(y_test, classes)"
      ],
      "metadata": {
        "colab": {
          "base_uri": "https://localhost:8080/"
        },
        "id": "zYulowIcDebd",
        "outputId": "e157e808-2d37-4f30-d80b-eb54a0c87ea0"
      },
      "execution_count": 114,
      "outputs": [
        {
          "output_type": "execute_result",
          "data": {
            "text/plain": [
              "(array([[ 9851,  5354],\n",
              "        [ 3325, 13940]]),\n",
              " 0.807413843035042)"
            ]
          },
          "metadata": {},
          "execution_count": 114
        }
      ]
    },
    {
      "cell_type": "markdown",
      "source": [
        "Дальнейшее уменьшение порога выглядит неоправданным с точки зрения затрат на \"перевод\" клиентов в разряд \"довольных\". Это связано с увеличением количества ошибочно недовольных клиентов, на работу с которыми лягут дополнительные затраты.\n"
      ],
      "metadata": {
        "id": "U5ajS2VC-q_O"
      }
    },
    {
      "cell_type": "code",
      "source": [
        "importances = pd.DataFrame({'weights': model.coef_[0], 'features': X_train.columns}).sort_values(by='weights')\n",
        "importances.head(28)"
      ],
      "metadata": {
        "colab": {
          "base_uri": "https://localhost:8080/",
          "height": 927
        },
        "id": "nSS-7xLiHh47",
        "outputId": "3a3b97a3-3064-47e4-91b6-d4667979e8d2"
      },
      "execution_count": 115,
      "outputs": [
        {
          "output_type": "execute_result",
          "data": {
            "text/plain": [
              "     weights                           features\n",
              "3  -2.385181           Arrival Delay in Minutes\n",
              "2  -1.757113         Departure Delay in Minutes\n",
              "6  -0.950219             Ease of Online booking\n",
              "25 -0.533493                          Class_Eco\n",
              "22 -0.337720     Type of Travel_Personal Travel\n",
              "26 -0.302870                     Class_Eco Plus\n",
              "8  -0.269335                     Food and drink\n",
              "23 -0.267895        Type of Travel_noTravelType\n",
              "20 -0.154764                      Gender_noData\n",
              "18 -0.015820                      Gender_Female\n",
              "5   0.054728  Departure/Arrival time convenient\n",
              "16  0.078316                   Inflight service\n",
              "19  0.085960                        Gender_Male\n",
              "14  0.157201                   Baggage handling\n",
              "7   0.163993                      Gate location\n",
              "17  0.264068                        Cleanliness\n",
              "10  0.324516                       Seat comfort\n",
              "24  0.365127                     Class_Business\n",
              "27  0.386612                      Class_noClass\n",
              "21  0.520992     Type of Travel_Business travel\n",
              "0   0.661289                                Age\n",
              "15  0.678294                    Checkin service\n",
              "12  0.751769                   On-board service\n",
              "11  0.899089             Inflight entertainment\n",
              "13  0.947273                   Leg room service\n",
              "4   1.031922              Inflight wifi service\n",
              "9   2.363548                    Online boarding\n",
              "1   2.459930                    Flight Distance"
            ],
            "text/html": [
              "\n",
              "  <div id=\"df-1a76d9dc-700e-407b-9785-fd6c0b8aa989\">\n",
              "    <div class=\"colab-df-container\">\n",
              "      <div>\n",
              "<style scoped>\n",
              "    .dataframe tbody tr th:only-of-type {\n",
              "        vertical-align: middle;\n",
              "    }\n",
              "\n",
              "    .dataframe tbody tr th {\n",
              "        vertical-align: top;\n",
              "    }\n",
              "\n",
              "    .dataframe thead th {\n",
              "        text-align: right;\n",
              "    }\n",
              "</style>\n",
              "<table border=\"1\" class=\"dataframe\">\n",
              "  <thead>\n",
              "    <tr style=\"text-align: right;\">\n",
              "      <th></th>\n",
              "      <th>weights</th>\n",
              "      <th>features</th>\n",
              "    </tr>\n",
              "  </thead>\n",
              "  <tbody>\n",
              "    <tr>\n",
              "      <th>3</th>\n",
              "      <td>-2.385181</td>\n",
              "      <td>Arrival Delay in Minutes</td>\n",
              "    </tr>\n",
              "    <tr>\n",
              "      <th>2</th>\n",
              "      <td>-1.757113</td>\n",
              "      <td>Departure Delay in Minutes</td>\n",
              "    </tr>\n",
              "    <tr>\n",
              "      <th>6</th>\n",
              "      <td>-0.950219</td>\n",
              "      <td>Ease of Online booking</td>\n",
              "    </tr>\n",
              "    <tr>\n",
              "      <th>25</th>\n",
              "      <td>-0.533493</td>\n",
              "      <td>Class_Eco</td>\n",
              "    </tr>\n",
              "    <tr>\n",
              "      <th>22</th>\n",
              "      <td>-0.337720</td>\n",
              "      <td>Type of Travel_Personal Travel</td>\n",
              "    </tr>\n",
              "    <tr>\n",
              "      <th>26</th>\n",
              "      <td>-0.302870</td>\n",
              "      <td>Class_Eco Plus</td>\n",
              "    </tr>\n",
              "    <tr>\n",
              "      <th>8</th>\n",
              "      <td>-0.269335</td>\n",
              "      <td>Food and drink</td>\n",
              "    </tr>\n",
              "    <tr>\n",
              "      <th>23</th>\n",
              "      <td>-0.267895</td>\n",
              "      <td>Type of Travel_noTravelType</td>\n",
              "    </tr>\n",
              "    <tr>\n",
              "      <th>20</th>\n",
              "      <td>-0.154764</td>\n",
              "      <td>Gender_noData</td>\n",
              "    </tr>\n",
              "    <tr>\n",
              "      <th>18</th>\n",
              "      <td>-0.015820</td>\n",
              "      <td>Gender_Female</td>\n",
              "    </tr>\n",
              "    <tr>\n",
              "      <th>5</th>\n",
              "      <td>0.054728</td>\n",
              "      <td>Departure/Arrival time convenient</td>\n",
              "    </tr>\n",
              "    <tr>\n",
              "      <th>16</th>\n",
              "      <td>0.078316</td>\n",
              "      <td>Inflight service</td>\n",
              "    </tr>\n",
              "    <tr>\n",
              "      <th>19</th>\n",
              "      <td>0.085960</td>\n",
              "      <td>Gender_Male</td>\n",
              "    </tr>\n",
              "    <tr>\n",
              "      <th>14</th>\n",
              "      <td>0.157201</td>\n",
              "      <td>Baggage handling</td>\n",
              "    </tr>\n",
              "    <tr>\n",
              "      <th>7</th>\n",
              "      <td>0.163993</td>\n",
              "      <td>Gate location</td>\n",
              "    </tr>\n",
              "    <tr>\n",
              "      <th>17</th>\n",
              "      <td>0.264068</td>\n",
              "      <td>Cleanliness</td>\n",
              "    </tr>\n",
              "    <tr>\n",
              "      <th>10</th>\n",
              "      <td>0.324516</td>\n",
              "      <td>Seat comfort</td>\n",
              "    </tr>\n",
              "    <tr>\n",
              "      <th>24</th>\n",
              "      <td>0.365127</td>\n",
              "      <td>Class_Business</td>\n",
              "    </tr>\n",
              "    <tr>\n",
              "      <th>27</th>\n",
              "      <td>0.386612</td>\n",
              "      <td>Class_noClass</td>\n",
              "    </tr>\n",
              "    <tr>\n",
              "      <th>21</th>\n",
              "      <td>0.520992</td>\n",
              "      <td>Type of Travel_Business travel</td>\n",
              "    </tr>\n",
              "    <tr>\n",
              "      <th>0</th>\n",
              "      <td>0.661289</td>\n",
              "      <td>Age</td>\n",
              "    </tr>\n",
              "    <tr>\n",
              "      <th>15</th>\n",
              "      <td>0.678294</td>\n",
              "      <td>Checkin service</td>\n",
              "    </tr>\n",
              "    <tr>\n",
              "      <th>12</th>\n",
              "      <td>0.751769</td>\n",
              "      <td>On-board service</td>\n",
              "    </tr>\n",
              "    <tr>\n",
              "      <th>11</th>\n",
              "      <td>0.899089</td>\n",
              "      <td>Inflight entertainment</td>\n",
              "    </tr>\n",
              "    <tr>\n",
              "      <th>13</th>\n",
              "      <td>0.947273</td>\n",
              "      <td>Leg room service</td>\n",
              "    </tr>\n",
              "    <tr>\n",
              "      <th>4</th>\n",
              "      <td>1.031922</td>\n",
              "      <td>Inflight wifi service</td>\n",
              "    </tr>\n",
              "    <tr>\n",
              "      <th>9</th>\n",
              "      <td>2.363548</td>\n",
              "      <td>Online boarding</td>\n",
              "    </tr>\n",
              "    <tr>\n",
              "      <th>1</th>\n",
              "      <td>2.459930</td>\n",
              "      <td>Flight Distance</td>\n",
              "    </tr>\n",
              "  </tbody>\n",
              "</table>\n",
              "</div>\n",
              "      <button class=\"colab-df-convert\" onclick=\"convertToInteractive('df-1a76d9dc-700e-407b-9785-fd6c0b8aa989')\"\n",
              "              title=\"Convert this dataframe to an interactive table.\"\n",
              "              style=\"display:none;\">\n",
              "        \n",
              "  <svg xmlns=\"http://www.w3.org/2000/svg\" height=\"24px\"viewBox=\"0 0 24 24\"\n",
              "       width=\"24px\">\n",
              "    <path d=\"M0 0h24v24H0V0z\" fill=\"none\"/>\n",
              "    <path d=\"M18.56 5.44l.94 2.06.94-2.06 2.06-.94-2.06-.94-.94-2.06-.94 2.06-2.06.94zm-11 1L8.5 8.5l.94-2.06 2.06-.94-2.06-.94L8.5 2.5l-.94 2.06-2.06.94zm10 10l.94 2.06.94-2.06 2.06-.94-2.06-.94-.94-2.06-.94 2.06-2.06.94z\"/><path d=\"M17.41 7.96l-1.37-1.37c-.4-.4-.92-.59-1.43-.59-.52 0-1.04.2-1.43.59L10.3 9.45l-7.72 7.72c-.78.78-.78 2.05 0 2.83L4 21.41c.39.39.9.59 1.41.59.51 0 1.02-.2 1.41-.59l7.78-7.78 2.81-2.81c.8-.78.8-2.07 0-2.86zM5.41 20L4 18.59l7.72-7.72 1.47 1.35L5.41 20z\"/>\n",
              "  </svg>\n",
              "      </button>\n",
              "      \n",
              "  <style>\n",
              "    .colab-df-container {\n",
              "      display:flex;\n",
              "      flex-wrap:wrap;\n",
              "      gap: 12px;\n",
              "    }\n",
              "\n",
              "    .colab-df-convert {\n",
              "      background-color: #E8F0FE;\n",
              "      border: none;\n",
              "      border-radius: 50%;\n",
              "      cursor: pointer;\n",
              "      display: none;\n",
              "      fill: #1967D2;\n",
              "      height: 32px;\n",
              "      padding: 0 0 0 0;\n",
              "      width: 32px;\n",
              "    }\n",
              "\n",
              "    .colab-df-convert:hover {\n",
              "      background-color: #E2EBFA;\n",
              "      box-shadow: 0px 1px 2px rgba(60, 64, 67, 0.3), 0px 1px 3px 1px rgba(60, 64, 67, 0.15);\n",
              "      fill: #174EA6;\n",
              "    }\n",
              "\n",
              "    [theme=dark] .colab-df-convert {\n",
              "      background-color: #3B4455;\n",
              "      fill: #D2E3FC;\n",
              "    }\n",
              "\n",
              "    [theme=dark] .colab-df-convert:hover {\n",
              "      background-color: #434B5C;\n",
              "      box-shadow: 0px 1px 3px 1px rgba(0, 0, 0, 0.15);\n",
              "      filter: drop-shadow(0px 1px 2px rgba(0, 0, 0, 0.3));\n",
              "      fill: #FFFFFF;\n",
              "    }\n",
              "  </style>\n",
              "\n",
              "      <script>\n",
              "        const buttonEl =\n",
              "          document.querySelector('#df-1a76d9dc-700e-407b-9785-fd6c0b8aa989 button.colab-df-convert');\n",
              "        buttonEl.style.display =\n",
              "          google.colab.kernel.accessAllowed ? 'block' : 'none';\n",
              "\n",
              "        async function convertToInteractive(key) {\n",
              "          const element = document.querySelector('#df-1a76d9dc-700e-407b-9785-fd6c0b8aa989');\n",
              "          const dataTable =\n",
              "            await google.colab.kernel.invokeFunction('convertToInteractive',\n",
              "                                                     [key], {});\n",
              "          if (!dataTable) return;\n",
              "\n",
              "          const docLinkHtml = 'Like what you see? Visit the ' +\n",
              "            '<a target=\"_blank\" href=https://colab.research.google.com/notebooks/data_table.ipynb>data table notebook</a>'\n",
              "            + ' to learn more about interactive tables.';\n",
              "          element.innerHTML = '';\n",
              "          dataTable['output_type'] = 'display_data';\n",
              "          await google.colab.output.renderOutput(dataTable, element);\n",
              "          const docLink = document.createElement('div');\n",
              "          docLink.innerHTML = docLinkHtml;\n",
              "          element.appendChild(docLink);\n",
              "        }\n",
              "      </script>\n",
              "    </div>\n",
              "  </div>\n",
              "  "
            ]
          },
          "metadata": {},
          "execution_count": 115
        }
      ]
    },
    {
      "cell_type": "code",
      "source": [
        "import pickle\n",
        "\n",
        "with open('model_final.pickle', 'wb') as f:\n",
        "    pickle.dump(model, f)"
      ],
      "metadata": {
        "id": "zedHReKaJQKX"
      },
      "execution_count": 116,
      "outputs": []
    }
  ]
}